{
 "cells": [
  {
   "cell_type": "markdown",
   "metadata": {
    "id": "0Cl4CBvCOUV6",
    "pycharm": {
     "name": "#%% md\n"
    }
   },
   "source": [
    "# Airlanes Delay\n",
    "## Alberto Mastromarino"
   ]
  },
  {
   "cell_type": "markdown",
   "metadata": {
    "id": "pYj1AgCgOUV9",
    "pycharm": {
     "name": "#%% md\n"
    }
   },
   "source": [
    "## Create Spark Session"
   ]
  },
  {
   "cell_type": "markdown",
   "metadata": {
    "id": "-phBJlPdOUV9",
    "pycharm": {
     "name": "#%% md\n"
    }
   },
   "source": [
    "### Import libraries"
   ]
  },
  {
   "cell_type": "code",
   "execution_count": 1,
   "metadata": {
    "id": "wWSkRiuGOUV9",
    "pycharm": {
     "name": "#%%\n"
    }
   },
   "outputs": [],
   "source": [
    "import findspark\n",
    "findspark.init()\n",
    "from pyspark.sql import SparkSession\n",
    "from pyspark.sql.functions import *\n",
    "import pyspark.sql.functions as funct\n",
    "import seaborn as sns\n",
    "import matplotlib.pyplot as plt\n",
    "import random\n",
    "from pyspark.ml import Pipeline\n",
    "from pyspark.ml.feature import VectorAssembler\n",
    "from pyspark.ml.feature import MinMaxScaler, RobustScaler\n",
    "from pyspark.ml.feature import StringIndexer\n",
    "from pyspark.ml.feature import OneHotEncoder\n",
    "from pyspark.ml.evaluation import BinaryClassificationEvaluator as BinaryEvaluator\n",
    "from pyspark.ml.evaluation import MulticlassClassificationEvaluator as MultiClassEvaluator"
   ]
  },
  {
   "cell_type": "code",
   "execution_count": 2,
   "metadata": {
    "id": "cxB0LtzYOUV-",
    "pycharm": {
     "name": "#%%\n"
    }
   },
   "outputs": [],
   "source": [
    "spark = SparkSession.builder.appName(\"Airlanes Delay\").getOrCreate()"
   ]
  },
  {
   "cell_type": "code",
   "execution_count": 3,
   "metadata": {
    "id": "DhEDVlrhOUV_",
    "pycharm": {
     "name": "#%%\n"
    }
   },
   "outputs": [],
   "source": [
    "sc = spark.sparkContext"
   ]
  },
  {
   "cell_type": "code",
   "execution_count": 4,
   "metadata": {
    "colab": {
     "base_uri": "https://localhost:8080/",
     "height": 196
    },
    "id": "H7cTeSYoOUV_",
    "outputId": "8480d1e5-7527-41f6-c94e-d5284afd8ba6",
    "pycharm": {
     "name": "#%%\n"
    }
   },
   "outputs": [
    {
     "data": {
      "text/plain": "<SparkContext master=local[*] appName=Airlanes Delay>",
      "text/html": "\n        <div>\n            <p><b>SparkContext</b></p>\n\n            <p><a href=\"http://DESKTOP-A7EDLDU:4040\">Spark UI</a></p>\n\n            <dl>\n              <dt>Version</dt>\n                <dd><code>v3.3.2</code></dd>\n              <dt>Master</dt>\n                <dd><code>local[*]</code></dd>\n              <dt>AppName</dt>\n                <dd><code>Airlanes Delay</code></dd>\n            </dl>\n        </div>\n        "
     },
     "execution_count": 4,
     "metadata": {},
     "output_type": "execute_result"
    }
   ],
   "source": [
    "sc"
   ]
  },
  {
   "cell_type": "markdown",
   "metadata": {
    "id": "a6a5zS6nOUV_",
    "pycharm": {
     "name": "#%% md\n"
    }
   },
   "source": [
    "## Read the csv dataset"
   ]
  },
  {
   "cell_type": "code",
   "execution_count": 5,
   "metadata": {
    "id": "gjygZc-GOUV_",
    "pycharm": {
     "name": "#%%\n"
    }
   },
   "outputs": [],
   "source": [
    "import os"
   ]
  },
  {
   "cell_type": "code",
   "execution_count": 6,
   "metadata": {
    "id": "Lz5b1-DIOUV_",
    "pycharm": {
     "name": "#%%\n"
    }
   },
   "outputs": [],
   "source": [
    "ds_name = \"airlines_delay.csv\"\n",
    "ds_path = \"/Users/Alberto/Desktop\""
   ]
  },
  {
   "cell_type": "code",
   "execution_count": 7,
   "metadata": {
    "id": "_9GUVrpAOUWA",
    "pycharm": {
     "name": "#%%\n"
    }
   },
   "outputs": [],
   "source": [
    "df = spark.read.csv(os.path.join(ds_path,ds_name), inferSchema = True, header = True)"
   ]
  },
  {
   "cell_type": "markdown",
   "source": [
    "## Overview dataset"
   ],
   "metadata": {
    "collapsed": false,
    "id": "sXBqKFQTn8kU",
    "pycharm": {
     "name": "#%% md\n"
    }
   }
  },
  {
   "cell_type": "code",
   "execution_count": 8,
   "metadata": {
    "colab": {
     "base_uri": "https://localhost:8080/"
    },
    "id": "1kj5Sv17OUWA",
    "outputId": "c64d9376-4113-40d3-e61d-14e598286316",
    "pycharm": {
     "name": "#%%\n"
    }
   },
   "outputs": [
    {
     "data": {
      "text/plain": "[StructField('Flight', DoubleType(), True),\n StructField('Time', DoubleType(), True),\n StructField('Length', DoubleType(), True),\n StructField('Airline', StringType(), True),\n StructField('AirportFrom', StringType(), True),\n StructField('AirportTo', StringType(), True),\n StructField('DayOfWeek', IntegerType(), True),\n StructField('Class', IntegerType(), True)]"
     },
     "execution_count": 8,
     "metadata": {},
     "output_type": "execute_result"
    }
   ],
   "source": [
    "df.schema.fields"
   ]
  },
  {
   "cell_type": "code",
   "execution_count": 9,
   "metadata": {
    "colab": {
     "base_uri": "https://localhost:8080/"
    },
    "id": "F1WCCjPgOUWA",
    "outputId": "80257cb8-abfa-447a-d33f-8293923643c1",
    "pycharm": {
     "name": "#%%\n"
    }
   },
   "outputs": [
    {
     "data": {
      "text/plain": "['Flight',\n 'Time',\n 'Length',\n 'Airline',\n 'AirportFrom',\n 'AirportTo',\n 'DayOfWeek',\n 'Class']"
     },
     "execution_count": 9,
     "metadata": {},
     "output_type": "execute_result"
    }
   ],
   "source": [
    "df.columns"
   ]
  },
  {
   "cell_type": "code",
   "execution_count": 10,
   "metadata": {
    "colab": {
     "base_uri": "https://localhost:8080/"
    },
    "id": "Gz2UjSIsOUWA",
    "outputId": "62cdd733-d31e-48cc-c240-9111a15b6650",
    "pycharm": {
     "name": "#%%\n"
    }
   },
   "outputs": [
    {
     "data": {
      "text/plain": "539382"
     },
     "execution_count": 10,
     "metadata": {},
     "output_type": "execute_result"
    }
   ],
   "source": [
    "df.count()"
   ]
  },
  {
   "cell_type": "code",
   "execution_count": 11,
   "metadata": {
    "colab": {
     "base_uri": "https://localhost:8080/"
    },
    "id": "0ej8n41SOUWB",
    "outputId": "73c16db5-acfa-4342-b544-2b1e20340cc6",
    "pycharm": {
     "name": "#%%\n"
    }
   },
   "outputs": [
    {
     "data": {
      "text/plain": "8"
     },
     "execution_count": 11,
     "metadata": {},
     "output_type": "execute_result"
    }
   ],
   "source": [
    "len(df.columns)"
   ]
  },
  {
   "cell_type": "code",
   "execution_count": 12,
   "metadata": {
    "colab": {
     "base_uri": "https://localhost:8080/"
    },
    "id": "O1ZUkGxYOUWB",
    "outputId": "660b7066-8db6-4fce-8ae9-2d8f24c3fa69",
    "pycharm": {
     "name": "#%%\n"
    }
   },
   "outputs": [
    {
     "name": "stdout",
     "output_type": "stream",
     "text": [
      "+------+------+------+-------+-----------+---------+---------+-----+\n",
      "|Flight|  Time|Length|Airline|AirportFrom|AirportTo|DayOfWeek|Class|\n",
      "+------+------+------+-------+-----------+---------+---------+-----+\n",
      "|2313.0|1296.0| 141.0|     DL|        ATL|      HOU|        1|    0|\n",
      "|6948.0| 360.0| 146.0|     OO|        COS|      ORD|        4|    0|\n",
      "|1247.0|1170.0| 143.0|     B6|        BOS|      CLT|        3|    0|\n",
      "|  31.0|1410.0| 344.0|     US|        OGG|      PHX|        6|    0|\n",
      "| 563.0| 692.0|  98.0|     FL|        BMI|      ATL|        4|    0|\n",
      "|3692.0| 580.0|  60.0|     WN|        MSY|      BHM|        4|    0|\n",
      "|1135.0| 690.0| 239.0|     CO|        EWR|      DFW|        4|    0|\n",
      "|1300.0|1210.0|  80.0|     AA|        DFW|      MEM|        3|    0|\n",
      "| 587.0|1295.0| 105.0|     FL|        BWI|      GRR|        7|    0|\n",
      "| 764.0| 530.0| 108.0|     FL|        ATL|      PBI|        3|    0|\n",
      "|1147.0|1103.0| 121.0|     FL|        CRW|      MCO|        4|    0|\n",
      "|1440.0| 951.0|  79.0|     B6|        LGB|      SFO|        7|    0|\n",
      "|6605.0|1215.0| 102.0|     OO|        BIS|      DEN|        4|    0|\n",
      "|2670.0|1189.0| 110.0|     YV|        CLT|      MEM|        4|    0|\n",
      "|1015.0| 615.0| 142.0|     US|        IAH|      CLT|        4|    0|\n",
      "|7032.0| 771.0|  70.0|     OO|        LAX|      YUM|        2|    0|\n",
      "| 138.0| 948.0| 116.0|     FL|        JAX|      BWI|        5|    0|\n",
      "|5411.0| 966.0| 134.0|     EV|        ATL|      HPN|        7|    0|\n",
      "|2517.0|1160.0| 127.0|     XE|        SAV|      EWR|        4|    0|\n",
      "|3721.0| 750.0| 119.0|     9E|        CLE|      JFK|        1|    0|\n",
      "+------+------+------+-------+-----------+---------+---------+-----+\n",
      "only showing top 20 rows\n",
      "\n"
     ]
    }
   ],
   "source": [
    "df.show()"
   ]
  },
  {
   "cell_type": "code",
   "execution_count": 13,
   "metadata": {
    "colab": {
     "base_uri": "https://localhost:8080/"
    },
    "id": "0xbAOTnsOUWB",
    "outputId": "6f2a9d2c-fb8f-496e-9291-301090df8434",
    "pycharm": {
     "name": "#%%\n"
    }
   },
   "outputs": [
    {
     "data": {
      "text/plain": "[Row(Flight=2313.0, Time=1296.0, Length=141.0, Airline='DL', AirportFrom='ATL', AirportTo='HOU', DayOfWeek=1, Class=0),\n Row(Flight=6948.0, Time=360.0, Length=146.0, Airline='OO', AirportFrom='COS', AirportTo='ORD', DayOfWeek=4, Class=0),\n Row(Flight=1247.0, Time=1170.0, Length=143.0, Airline='B6', AirportFrom='BOS', AirportTo='CLT', DayOfWeek=3, Class=0),\n Row(Flight=31.0, Time=1410.0, Length=344.0, Airline='US', AirportFrom='OGG', AirportTo='PHX', DayOfWeek=6, Class=0),\n Row(Flight=563.0, Time=692.0, Length=98.0, Airline='FL', AirportFrom='BMI', AirportTo='ATL', DayOfWeek=4, Class=0)]"
     },
     "execution_count": 13,
     "metadata": {},
     "output_type": "execute_result"
    }
   ],
   "source": [
    "df.head(5)"
   ]
  },
  {
   "cell_type": "code",
   "execution_count": 14,
   "metadata": {
    "colab": {
     "base_uri": "https://localhost:8080/"
    },
    "id": "6ylU3edaOUWB",
    "outputId": "6d67641b-0831-44ac-b04b-b6c7a775697e",
    "pycharm": {
     "name": "#%%\n"
    }
   },
   "outputs": [
    {
     "data": {
      "text/plain": "[Row(Flight=6973.0, Time=530.0, Length=72.0, Airline='OO', AirportFrom='GEG', AirportTo='SEA', DayOfWeek=5, Class=1),\n Row(Flight=1264.0, Time=560.0, Length=115.0, Airline='WN', AirportFrom='LAS', AirportTo='DEN', DayOfWeek=4, Class=1),\n Row(Flight=5209.0, Time=827.0, Length=74.0, Airline='EV', AirportFrom='CAE', AirportTo='ATL', DayOfWeek=2, Class=1),\n Row(Flight=607.0, Time=715.0, Length=65.0, Airline='WN', AirportFrom='BWI', AirportTo='BUF', DayOfWeek=4, Class=1),\n Row(Flight=6377.0, Time=770.0, Length=55.0, Airline='OO', AirportFrom='CPR', AirportTo='DEN', DayOfWeek=2, Class=1)]"
     },
     "execution_count": 14,
     "metadata": {},
     "output_type": "execute_result"
    }
   ],
   "source": [
    "df.tail(5)"
   ]
  },
  {
   "cell_type": "code",
   "execution_count": 15,
   "metadata": {
    "colab": {
     "base_uri": "https://localhost:8080/"
    },
    "id": "dbzAURcUOUWB",
    "outputId": "bd16bc38-3e99-485c-eeb8-c7dcab272aca",
    "pycharm": {
     "name": "#%%\n"
    }
   },
   "outputs": [
    {
     "name": "stdout",
     "output_type": "stream",
     "text": [
      "+-------+------------------+-----------------+------------------+-------+-----------+---------+------------------+-------------------+\n",
      "|summary|            Flight|             Time|            Length|Airline|AirportFrom|AirportTo|         DayOfWeek|              Class|\n",
      "+-------+------------------+-----------------+------------------+-------+-----------+---------+------------------+-------------------+\n",
      "|  count|            539382|           539382|            539382| 539382|     539382|   539382|            539382|             539382|\n",
      "|   mean|2427.9279879565875|802.7281611177236|132.20210351847115|   null|       null|     null| 3.929665802714959|0.44544311823531374|\n",
      "| stddev|2067.4316995118197|278.0455455864742| 70.11704456829193|   null|       null|     null|1.9146655984563838|0.49701509497006235|\n",
      "|    min|               1.0|             10.0|               0.0|     9E|        ABE|      ABE|                 1|                  0|\n",
      "|    max|            7814.0|           1439.0|             655.0|     YV|        YUM|      YUM|                 7|                  1|\n",
      "+-------+------------------+-----------------+------------------+-------+-----------+---------+------------------+-------------------+\n",
      "\n"
     ]
    }
   ],
   "source": [
    "df.describe().show()"
   ]
  },
  {
   "cell_type": "markdown",
   "metadata": {
    "id": "IfoAu1veOUWB",
    "pycharm": {
     "name": "#%% md\n"
    }
   },
   "source": [
    "- Checking the class values "
   ]
  },
  {
   "cell_type": "code",
   "execution_count": 16,
   "metadata": {
    "colab": {
     "base_uri": "https://localhost:8080/"
    },
    "id": "gFgTFZEgOUWC",
    "outputId": "e0873156-35c4-41d5-c483-b794fdf22280",
    "pycharm": {
     "name": "#%%\n"
    }
   },
   "outputs": [
    {
     "name": "stdout",
     "output_type": "stream",
     "text": [
      "+-----+------+\n",
      "|Class| count|\n",
      "+-----+------+\n",
      "|    1|240264|\n",
      "|    0|299118|\n",
      "+-----+------+\n",
      "\n"
     ]
    }
   ],
   "source": [
    "df.groupBy(\"Class\").count().show()"
   ]
  },
  {
   "cell_type": "code",
   "execution_count": 17,
   "metadata": {
    "colab": {
     "base_uri": "https://localhost:8080/"
    },
    "id": "ssNjNw5W3Csx",
    "outputId": "d59dc612-d9b8-401f-a213-ba6447a41f9c",
    "pycharm": {
     "name": "#%%\n"
    }
   },
   "outputs": [
    {
     "name": "stdout",
     "output_type": "stream",
     "text": [
      "+------+-----+\n",
      "|Flight|count|\n",
      "+------+-----+\n",
      "|7115.0|   46|\n",
      "| 596.0|  231|\n",
      "| 305.0|  150|\n",
      "|6454.0|   58|\n",
      "| 299.0|  107|\n",
      "|2734.0|  136|\n",
      "| 769.0|  105|\n",
      "|2862.0|  122|\n",
      "|4142.0|   31|\n",
      "|1051.0|  175|\n",
      "|6433.0|   62|\n",
      "| 496.0|  234|\n",
      "|3980.0|   88|\n",
      "| 934.0|  181|\n",
      "| 558.0|  262|\n",
      "|6653.0|   70|\n",
      "| 692.0|  162|\n",
      "|4800.0|   55|\n",
      "|1761.0|  130|\n",
      "|3901.0|   45|\n",
      "+------+-----+\n",
      "only showing top 20 rows\n",
      "\n"
     ]
    }
   ],
   "source": [
    "df.groupBy(\"Flight\").count().show()"
   ]
  },
  {
   "cell_type": "code",
   "execution_count": 18,
   "metadata": {
    "colab": {
     "base_uri": "https://localhost:8080/"
    },
    "id": "SW9XL4-WsKxg",
    "outputId": "518634e3-db9a-4eb9-f65a-08debb45c0a9",
    "pycharm": {
     "name": "#%%\n"
    }
   },
   "outputs": [
    {
     "name": "stdout",
     "output_type": "stream",
     "text": [
      "+------+----+------+-------+-----------+---------+---------+-----+\n",
      "|Flight|Time|Length|Airline|AirportFrom|AirportTo|DayOfWeek|Class|\n",
      "+------+----+------+-------+-----------+---------+---------+-----+\n",
      "|  6585|1131|   426|     18|        293|      293|        7|    2|\n",
      "+------+----+------+-------+-----------+---------+---------+-----+\n",
      "\n"
     ]
    }
   ],
   "source": [
    "unique = [countDistinct(c).alias(c) for c in df.columns]\n",
    "df.select(*unique).show()"
   ]
  },
  {
   "cell_type": "markdown",
   "metadata": {
    "id": "QOvoZEDsOUWC",
    "pycharm": {
     "name": "#%% md\n"
    }
   },
   "source": [
    "# Data Cleaning"
   ]
  },
  {
   "cell_type": "markdown",
   "metadata": {
    "id": "yus37WhIOUWC",
    "pycharm": {
     "name": "#%% md\n"
    }
   },
   "source": [
    "### Remove Na, duplicate rows, useless columns, wrong values\n"
   ]
  },
  {
   "cell_type": "markdown",
   "metadata": {
    "id": "rAdvMu5EOUWC",
    "pycharm": {
     "name": "#%% md\n"
    }
   },
   "source": [
    "- Checking if there are missing values"
   ]
  },
  {
   "cell_type": "code",
   "execution_count": 19,
   "metadata": {
    "colab": {
     "base_uri": "https://localhost:8080/"
    },
    "id": "eWevttWsOUWC",
    "outputId": "78f31fb7-dcae-4d73-af61-b4d3eac3ef23",
    "pycharm": {
     "name": "#%%\n"
    }
   },
   "outputs": [
    {
     "name": "stdout",
     "output_type": "stream",
     "text": [
      "+------+----+------+-------+-----------+---------+---------+-----+\n",
      "|Flight|Time|Length|Airline|AirportFrom|AirportTo|DayOfWeek|Class|\n",
      "+------+----+------+-------+-----------+---------+---------+-----+\n",
      "|     0|   0|     0|      0|          0|        0|        0|    0|\n",
      "+------+----+------+-------+-----------+---------+---------+-----+\n",
      "\n"
     ]
    }
   ],
   "source": [
    "df.select([count(when(isnan(c) | col(c).isNull(), c)).alias(c) for c in df.columns]).show()"
   ]
  },
  {
   "cell_type": "markdown",
   "metadata": {
    "id": "IThyvl3xOUWC",
    "pycharm": {
     "name": "#%% md\n"
    }
   },
   "source": [
    "- Remove the flight ID column"
   ]
  },
  {
   "cell_type": "code",
   "execution_count": 20,
   "metadata": {
    "id": "1U05KoADOUWC",
    "pycharm": {
     "name": "#%%\n"
    }
   },
   "outputs": [],
   "source": [
    "df = df.drop(\"Flight\")"
   ]
  },
  {
   "cell_type": "code",
   "execution_count": 21,
   "metadata": {
    "colab": {
     "base_uri": "https://localhost:8080/"
    },
    "id": "cZ5zWrPyOUWC",
    "outputId": "f893f8bc-9334-48ff-e2c9-d2866d059b9d",
    "pycharm": {
     "name": "#%%\n"
    }
   },
   "outputs": [
    {
     "data": {
      "text/plain": "7"
     },
     "execution_count": 21,
     "metadata": {},
     "output_type": "execute_result"
    }
   ],
   "source": [
    "len(df.columns)"
   ]
  },
  {
   "cell_type": "code",
   "execution_count": 22,
   "metadata": {
    "colab": {
     "base_uri": "https://localhost:8080/"
    },
    "id": "n4Jt19MPOUWD",
    "outputId": "026a3d70-109c-4c91-953e-b35b7ffc248e",
    "pycharm": {
     "name": "#%%\n"
    }
   },
   "outputs": [
    {
     "data": {
      "text/plain": "539382"
     },
     "execution_count": 22,
     "metadata": {},
     "output_type": "execute_result"
    }
   ],
   "source": [
    "df.count()"
   ]
  },
  {
   "cell_type": "code",
   "execution_count": 23,
   "metadata": {
    "colab": {
     "base_uri": "https://localhost:8080/"
    },
    "id": "-rmKc1dsOUWD",
    "outputId": "df43df75-40a7-4c9c-8023-e3272df38756",
    "pycharm": {
     "name": "#%%\n"
    }
   },
   "outputs": [
    {
     "name": "stdout",
     "output_type": "stream",
     "text": [
      "+------+------+-------+-----------+---------+---------+-----+\n",
      "|  Time|Length|Airline|AirportFrom|AirportTo|DayOfWeek|Class|\n",
      "+------+------+-------+-----------+---------+---------+-----+\n",
      "|1296.0| 141.0|     DL|        ATL|      HOU|        1|    0|\n",
      "| 360.0| 146.0|     OO|        COS|      ORD|        4|    0|\n",
      "|1170.0| 143.0|     B6|        BOS|      CLT|        3|    0|\n",
      "|1410.0| 344.0|     US|        OGG|      PHX|        6|    0|\n",
      "| 692.0|  98.0|     FL|        BMI|      ATL|        4|    0|\n",
      "| 580.0|  60.0|     WN|        MSY|      BHM|        4|    0|\n",
      "| 690.0| 239.0|     CO|        EWR|      DFW|        4|    0|\n",
      "|1210.0|  80.0|     AA|        DFW|      MEM|        3|    0|\n",
      "|1295.0| 105.0|     FL|        BWI|      GRR|        7|    0|\n",
      "| 530.0| 108.0|     FL|        ATL|      PBI|        3|    0|\n",
      "|1103.0| 121.0|     FL|        CRW|      MCO|        4|    0|\n",
      "| 951.0|  79.0|     B6|        LGB|      SFO|        7|    0|\n",
      "|1215.0| 102.0|     OO|        BIS|      DEN|        4|    0|\n",
      "|1189.0| 110.0|     YV|        CLT|      MEM|        4|    0|\n",
      "| 615.0| 142.0|     US|        IAH|      CLT|        4|    0|\n",
      "| 771.0|  70.0|     OO|        LAX|      YUM|        2|    0|\n",
      "| 948.0| 116.0|     FL|        JAX|      BWI|        5|    0|\n",
      "| 966.0| 134.0|     EV|        ATL|      HPN|        7|    0|\n",
      "|1160.0| 127.0|     XE|        SAV|      EWR|        4|    0|\n",
      "| 750.0| 119.0|     9E|        CLE|      JFK|        1|    0|\n",
      "+------+------+-------+-----------+---------+---------+-----+\n",
      "only showing top 20 rows\n",
      "\n"
     ]
    }
   ],
   "source": [
    "df.show()"
   ]
  },
  {
   "cell_type": "markdown",
   "metadata": {
    "id": "2k3dZBsTOUWD",
    "pycharm": {
     "name": "#%% md\n"
    }
   },
   "source": [
    "## Data visualization"
   ]
  },
  {
   "cell_type": "markdown",
   "source": [
    "-- I converted the minute count into parts of the day\n",
    "- 0-4 late night 240 minutes\n",
    "- 4-8 early morning 480 minutes\n",
    "- 8-12 morning 720 minutes\n",
    "- 12-16 afternoon 960 minutes\n",
    "- 16-20 evening 1200 minutes\n",
    "- 20-24 night 1440 minutes\n",
    "\n",
    "-- I also converted numbers from 1 to 7 into days of the week"
   ],
   "metadata": {
    "id": "bgZ9CLQwT2V3",
    "pycharm": {
     "name": "#%% md\n"
    }
   }
  },
  {
   "cell_type": "code",
   "execution_count": 24,
   "metadata": {
    "id": "aGq8b01_OUWE",
    "pycharm": {
     "name": "#%%\n"
    }
   },
   "outputs": [],
   "source": [
    "df_minute = df.toPandas()"
   ]
  },
  {
   "cell_type": "code",
   "execution_count": 25,
   "metadata": {
    "colab": {
     "base_uri": "https://localhost:8080/",
     "height": 424
    },
    "id": "eCgsrssTUed7",
    "outputId": "23cf3897-26a3-4610-af7c-24ba5d80dbe2",
    "pycharm": {
     "name": "#%%\n"
    }
   },
   "outputs": [
    {
     "data": {
      "text/plain": "          Time  Length Airline AirportFrom AirportTo  DayOfWeek  Class\n0       1296.0   141.0      DL         ATL       HOU          1      0\n1        360.0   146.0      OO         COS       ORD          4      0\n2       1170.0   143.0      B6         BOS       CLT          3      0\n3       1410.0   344.0      US         OGG       PHX          6      0\n4        692.0    98.0      FL         BMI       ATL          4      0\n...        ...     ...     ...         ...       ...        ...    ...\n539377   530.0    72.0      OO         GEG       SEA          5      1\n539378   560.0   115.0      WN         LAS       DEN          4      1\n539379   827.0    74.0      EV         CAE       ATL          2      1\n539380   715.0    65.0      WN         BWI       BUF          4      1\n539381   770.0    55.0      OO         CPR       DEN          2      1\n\n[539382 rows x 7 columns]",
      "text/html": "<div>\n<style scoped>\n    .dataframe tbody tr th:only-of-type {\n        vertical-align: middle;\n    }\n\n    .dataframe tbody tr th {\n        vertical-align: top;\n    }\n\n    .dataframe thead th {\n        text-align: right;\n    }\n</style>\n<table border=\"1\" class=\"dataframe\">\n  <thead>\n    <tr style=\"text-align: right;\">\n      <th></th>\n      <th>Time</th>\n      <th>Length</th>\n      <th>Airline</th>\n      <th>AirportFrom</th>\n      <th>AirportTo</th>\n      <th>DayOfWeek</th>\n      <th>Class</th>\n    </tr>\n  </thead>\n  <tbody>\n    <tr>\n      <th>0</th>\n      <td>1296.0</td>\n      <td>141.0</td>\n      <td>DL</td>\n      <td>ATL</td>\n      <td>HOU</td>\n      <td>1</td>\n      <td>0</td>\n    </tr>\n    <tr>\n      <th>1</th>\n      <td>360.0</td>\n      <td>146.0</td>\n      <td>OO</td>\n      <td>COS</td>\n      <td>ORD</td>\n      <td>4</td>\n      <td>0</td>\n    </tr>\n    <tr>\n      <th>2</th>\n      <td>1170.0</td>\n      <td>143.0</td>\n      <td>B6</td>\n      <td>BOS</td>\n      <td>CLT</td>\n      <td>3</td>\n      <td>0</td>\n    </tr>\n    <tr>\n      <th>3</th>\n      <td>1410.0</td>\n      <td>344.0</td>\n      <td>US</td>\n      <td>OGG</td>\n      <td>PHX</td>\n      <td>6</td>\n      <td>0</td>\n    </tr>\n    <tr>\n      <th>4</th>\n      <td>692.0</td>\n      <td>98.0</td>\n      <td>FL</td>\n      <td>BMI</td>\n      <td>ATL</td>\n      <td>4</td>\n      <td>0</td>\n    </tr>\n    <tr>\n      <th>...</th>\n      <td>...</td>\n      <td>...</td>\n      <td>...</td>\n      <td>...</td>\n      <td>...</td>\n      <td>...</td>\n      <td>...</td>\n    </tr>\n    <tr>\n      <th>539377</th>\n      <td>530.0</td>\n      <td>72.0</td>\n      <td>OO</td>\n      <td>GEG</td>\n      <td>SEA</td>\n      <td>5</td>\n      <td>1</td>\n    </tr>\n    <tr>\n      <th>539378</th>\n      <td>560.0</td>\n      <td>115.0</td>\n      <td>WN</td>\n      <td>LAS</td>\n      <td>DEN</td>\n      <td>4</td>\n      <td>1</td>\n    </tr>\n    <tr>\n      <th>539379</th>\n      <td>827.0</td>\n      <td>74.0</td>\n      <td>EV</td>\n      <td>CAE</td>\n      <td>ATL</td>\n      <td>2</td>\n      <td>1</td>\n    </tr>\n    <tr>\n      <th>539380</th>\n      <td>715.0</td>\n      <td>65.0</td>\n      <td>WN</td>\n      <td>BWI</td>\n      <td>BUF</td>\n      <td>4</td>\n      <td>1</td>\n    </tr>\n    <tr>\n      <th>539381</th>\n      <td>770.0</td>\n      <td>55.0</td>\n      <td>OO</td>\n      <td>CPR</td>\n      <td>DEN</td>\n      <td>2</td>\n      <td>1</td>\n    </tr>\n  </tbody>\n</table>\n<p>539382 rows × 7 columns</p>\n</div>"
     },
     "execution_count": 25,
     "metadata": {},
     "output_type": "execute_result"
    }
   ],
   "source": [
    "df_minute"
   ]
  },
  {
   "cell_type": "code",
   "source": [
    "def daytime(lista):\n",
    "    interval_dict = {\n",
    "        (0, 240): \"Late night\",\n",
    "        (240, 480): \"Early morning\",\n",
    "        (480, 720): \"Morning\",\n",
    "        (720, 960): \"Afternoon\",\n",
    "        (960, 1220): \"Evening\",\n",
    "        (1220, 1440): \"Night\"\n",
    "    }\n",
    "    \n",
    "    lista_n = [interval_dict[k] for i in lista for k in interval_dict.keys() if k[0] < i <= k[1]]\n",
    "    \n",
    "    return lista_n\n",
    "\n",
    "df_minute[\"Time\"] = daytime(df_minute[\"Time\"])"
   ],
   "metadata": {
    "id": "kmAV45HlUqlk",
    "pycharm": {
     "name": "#%%\n"
    }
   },
   "execution_count": 26,
   "outputs": []
  },
  {
   "cell_type": "code",
   "source": [
    "df_minute.head()"
   ],
   "metadata": {
    "colab": {
     "base_uri": "https://localhost:8080/"
    },
    "id": "cDdJzpz-U4Jb",
    "outputId": "1d88c1d5-960a-4d88-f301-b81010261d66",
    "pycharm": {
     "name": "#%%\n"
    }
   },
   "execution_count": 27,
   "outputs": [
    {
     "data": {
      "text/plain": "            Time  Length Airline AirportFrom AirportTo  DayOfWeek  Class\n0          Night   141.0      DL         ATL       HOU          1      0\n1  Early morning   146.0      OO         COS       ORD          4      0\n2        Evening   143.0      B6         BOS       CLT          3      0\n3          Night   344.0      US         OGG       PHX          6      0\n4        Morning    98.0      FL         BMI       ATL          4      0",
      "text/html": "<div>\n<style scoped>\n    .dataframe tbody tr th:only-of-type {\n        vertical-align: middle;\n    }\n\n    .dataframe tbody tr th {\n        vertical-align: top;\n    }\n\n    .dataframe thead th {\n        text-align: right;\n    }\n</style>\n<table border=\"1\" class=\"dataframe\">\n  <thead>\n    <tr style=\"text-align: right;\">\n      <th></th>\n      <th>Time</th>\n      <th>Length</th>\n      <th>Airline</th>\n      <th>AirportFrom</th>\n      <th>AirportTo</th>\n      <th>DayOfWeek</th>\n      <th>Class</th>\n    </tr>\n  </thead>\n  <tbody>\n    <tr>\n      <th>0</th>\n      <td>Night</td>\n      <td>141.0</td>\n      <td>DL</td>\n      <td>ATL</td>\n      <td>HOU</td>\n      <td>1</td>\n      <td>0</td>\n    </tr>\n    <tr>\n      <th>1</th>\n      <td>Early morning</td>\n      <td>146.0</td>\n      <td>OO</td>\n      <td>COS</td>\n      <td>ORD</td>\n      <td>4</td>\n      <td>0</td>\n    </tr>\n    <tr>\n      <th>2</th>\n      <td>Evening</td>\n      <td>143.0</td>\n      <td>B6</td>\n      <td>BOS</td>\n      <td>CLT</td>\n      <td>3</td>\n      <td>0</td>\n    </tr>\n    <tr>\n      <th>3</th>\n      <td>Night</td>\n      <td>344.0</td>\n      <td>US</td>\n      <td>OGG</td>\n      <td>PHX</td>\n      <td>6</td>\n      <td>0</td>\n    </tr>\n    <tr>\n      <th>4</th>\n      <td>Morning</td>\n      <td>98.0</td>\n      <td>FL</td>\n      <td>BMI</td>\n      <td>ATL</td>\n      <td>4</td>\n      <td>0</td>\n    </tr>\n  </tbody>\n</table>\n</div>"
     },
     "execution_count": 27,
     "metadata": {},
     "output_type": "execute_result"
    }
   ]
  },
  {
   "cell_type": "code",
   "source": [
    "def replace_day_of_week(df):\n",
    "    day_mapping = {1: \"Monday\", 2: \"Tuesday\", 3: \"Wednesday\", 4: \"Thursday\", 5: \"Friday\", 6: \"Saturday\", 7: \"Sunday\"}\n",
    "\n",
    "    df[\"DayOfWeek\"] = df[\"DayOfWeek\"].map(day_mapping)\n",
    "\n",
    "    return df\n",
    "\n",
    "df_minute = replace_day_of_week(df_minute)"
   ],
   "metadata": {
    "id": "EOKcpSj2UwmX",
    "pycharm": {
     "name": "#%%\n"
    }
   },
   "execution_count": 28,
   "outputs": []
  },
  {
   "cell_type": "code",
   "source": [
    "df_minute.head()"
   ],
   "metadata": {
    "colab": {
     "base_uri": "https://localhost:8080/",
     "height": 206
    },
    "id": "pgUL30rMAbmr",
    "outputId": "97c63174-10dc-49f0-fdbc-c39f77b07858",
    "pycharm": {
     "name": "#%%\n"
    }
   },
   "execution_count": 29,
   "outputs": [
    {
     "data": {
      "text/plain": "            Time  Length Airline AirportFrom AirportTo  DayOfWeek  Class\n0          Night   141.0      DL         ATL       HOU     Monday      0\n1  Early morning   146.0      OO         COS       ORD   Thursday      0\n2        Evening   143.0      B6         BOS       CLT  Wednesday      0\n3          Night   344.0      US         OGG       PHX   Saturday      0\n4        Morning    98.0      FL         BMI       ATL   Thursday      0",
      "text/html": "<div>\n<style scoped>\n    .dataframe tbody tr th:only-of-type {\n        vertical-align: middle;\n    }\n\n    .dataframe tbody tr th {\n        vertical-align: top;\n    }\n\n    .dataframe thead th {\n        text-align: right;\n    }\n</style>\n<table border=\"1\" class=\"dataframe\">\n  <thead>\n    <tr style=\"text-align: right;\">\n      <th></th>\n      <th>Time</th>\n      <th>Length</th>\n      <th>Airline</th>\n      <th>AirportFrom</th>\n      <th>AirportTo</th>\n      <th>DayOfWeek</th>\n      <th>Class</th>\n    </tr>\n  </thead>\n  <tbody>\n    <tr>\n      <th>0</th>\n      <td>Night</td>\n      <td>141.0</td>\n      <td>DL</td>\n      <td>ATL</td>\n      <td>HOU</td>\n      <td>Monday</td>\n      <td>0</td>\n    </tr>\n    <tr>\n      <th>1</th>\n      <td>Early morning</td>\n      <td>146.0</td>\n      <td>OO</td>\n      <td>COS</td>\n      <td>ORD</td>\n      <td>Thursday</td>\n      <td>0</td>\n    </tr>\n    <tr>\n      <th>2</th>\n      <td>Evening</td>\n      <td>143.0</td>\n      <td>B6</td>\n      <td>BOS</td>\n      <td>CLT</td>\n      <td>Wednesday</td>\n      <td>0</td>\n    </tr>\n    <tr>\n      <th>3</th>\n      <td>Night</td>\n      <td>344.0</td>\n      <td>US</td>\n      <td>OGG</td>\n      <td>PHX</td>\n      <td>Saturday</td>\n      <td>0</td>\n    </tr>\n    <tr>\n      <th>4</th>\n      <td>Morning</td>\n      <td>98.0</td>\n      <td>FL</td>\n      <td>BMI</td>\n      <td>ATL</td>\n      <td>Thursday</td>\n      <td>0</td>\n    </tr>\n  </tbody>\n</table>\n</div>"
     },
     "execution_count": 29,
     "metadata": {},
     "output_type": "execute_result"
    }
   ]
  },
  {
   "cell_type": "code",
   "source": [
    "days_order = ['Monday','Tuesday','Wednesday','Thursday','Friday','Saturday','Sunday']\n",
    "time_order = [\"Late night\", \"Early morning\", \"Morning\", \"Afternoon\", \"Evening\", \"Night\"]"
   ],
   "metadata": {
    "id": "28MZ0m6SNySR",
    "pycharm": {
     "name": "#%%\n"
    }
   },
   "execution_count": 30,
   "outputs": []
  },
  {
   "cell_type": "code",
   "source": [
    "df_minute.head()"
   ],
   "metadata": {
    "colab": {
     "base_uri": "https://localhost:8080/",
     "height": 206
    },
    "id": "hKGe7XFUCZRC",
    "outputId": "fdc609b7-24fc-4ec3-e97e-8db040b613f9",
    "pycharm": {
     "name": "#%%\n"
    }
   },
   "execution_count": 31,
   "outputs": [
    {
     "data": {
      "text/plain": "            Time  Length Airline AirportFrom AirportTo  DayOfWeek  Class\n0          Night   141.0      DL         ATL       HOU     Monday      0\n1  Early morning   146.0      OO         COS       ORD   Thursday      0\n2        Evening   143.0      B6         BOS       CLT  Wednesday      0\n3          Night   344.0      US         OGG       PHX   Saturday      0\n4        Morning    98.0      FL         BMI       ATL   Thursday      0",
      "text/html": "<div>\n<style scoped>\n    .dataframe tbody tr th:only-of-type {\n        vertical-align: middle;\n    }\n\n    .dataframe tbody tr th {\n        vertical-align: top;\n    }\n\n    .dataframe thead th {\n        text-align: right;\n    }\n</style>\n<table border=\"1\" class=\"dataframe\">\n  <thead>\n    <tr style=\"text-align: right;\">\n      <th></th>\n      <th>Time</th>\n      <th>Length</th>\n      <th>Airline</th>\n      <th>AirportFrom</th>\n      <th>AirportTo</th>\n      <th>DayOfWeek</th>\n      <th>Class</th>\n    </tr>\n  </thead>\n  <tbody>\n    <tr>\n      <th>0</th>\n      <td>Night</td>\n      <td>141.0</td>\n      <td>DL</td>\n      <td>ATL</td>\n      <td>HOU</td>\n      <td>Monday</td>\n      <td>0</td>\n    </tr>\n    <tr>\n      <th>1</th>\n      <td>Early morning</td>\n      <td>146.0</td>\n      <td>OO</td>\n      <td>COS</td>\n      <td>ORD</td>\n      <td>Thursday</td>\n      <td>0</td>\n    </tr>\n    <tr>\n      <th>2</th>\n      <td>Evening</td>\n      <td>143.0</td>\n      <td>B6</td>\n      <td>BOS</td>\n      <td>CLT</td>\n      <td>Wednesday</td>\n      <td>0</td>\n    </tr>\n    <tr>\n      <th>3</th>\n      <td>Night</td>\n      <td>344.0</td>\n      <td>US</td>\n      <td>OGG</td>\n      <td>PHX</td>\n      <td>Saturday</td>\n      <td>0</td>\n    </tr>\n    <tr>\n      <th>4</th>\n      <td>Morning</td>\n      <td>98.0</td>\n      <td>FL</td>\n      <td>BMI</td>\n      <td>ATL</td>\n      <td>Thursday</td>\n      <td>0</td>\n    </tr>\n  </tbody>\n</table>\n</div>"
     },
     "execution_count": 31,
     "metadata": {},
     "output_type": "execute_result"
    }
   ]
  },
  {
   "cell_type": "code",
   "source": [
    "sns.countplot(x='Airline', hue='Class', data=df_minute, palette = \"dark\")"
   ],
   "metadata": {
    "colab": {
     "base_uri": "https://localhost:8080/",
     "height": 721
    },
    "id": "0OWjIwMxE37c",
    "outputId": "6befada0-d911-4fc8-9f05-5c77ebea48ff",
    "pycharm": {
     "name": "#%%\n"
    }
   },
   "execution_count": 32,
   "outputs": [
    {
     "data": {
      "text/plain": "<Axes: xlabel='Airline', ylabel='count'>"
     },
     "execution_count": 32,
     "metadata": {},
     "output_type": "execute_result"
    },
    {
     "data": {
      "text/plain": "<Figure size 640x480 with 1 Axes>",
      "image/png": "[encoded data removed]"
     },
     "metadata": {},
     "output_type": "display_data"
    }
   ]
  },
  {
   "cell_type": "code",
   "source": [
    "sns.countplot(x='DayOfWeek', hue='Class', data=df_minute, palette = \"Paired\", order = days_order)\n",
    "\n",
    "sns.set(rc = {'figure.figsize':(14,8)})"
   ],
   "metadata": {
    "colab": {
     "base_uri": "https://localhost:8080/",
     "height": 704
    },
    "id": "qDTrU_g_9bQC",
    "outputId": "da2491fd-3f4f-45e2-8ce1-40135214fd9c",
    "pycharm": {
     "name": "#%%\n"
    }
   },
   "execution_count": 33,
   "outputs": [
    {
     "data": {
      "text/plain": "<Figure size 640x480 with 1 Axes>",
      "image/png": "[encoded data removed]"
     },
     "metadata": {},
     "output_type": "display_data"
    }
   ]
  },
  {
   "cell_type": "code",
   "source": [
    "df_cxa = df_minute.groupby(\"DayOfWeek\")[\"Class\"].value_counts(normalize=True)\n",
    "df_cxa = df_cxa.mul(1).rename('Percent').reset_index()\n",
    "print(df_cxa)\n",
    "\n",
    "df_cxa_p =sns.barplot(data=df_cxa,x=\"DayOfWeek\",y=\"Percent\",hue=\"Class\", palette = \"Paired\", order = days_order)\n",
    "for i in df_cxa_p.containers:\n",
    "    df_cxa_p.bar_label(i,)\n",
    "\n",
    "sns.set(rc = {'figure.figsize':(20,8)})"
   ],
   "metadata": {
    "colab": {
     "base_uri": "https://localhost:8080/",
     "height": 964
    },
    "id": "eIoSVGFtHc0n",
    "outputId": "b1c095ee-07d2-432b-f8e4-29e880abe6e4",
    "pycharm": {
     "name": "#%%\n"
    }
   },
   "execution_count": 34,
   "outputs": [
    {
     "name": "stdout",
     "output_type": "stream",
     "text": [
      "    DayOfWeek  Class   Percent\n",
      "0      Friday      0  0.583387\n",
      "1      Friday      1  0.416613\n",
      "2      Monday      0  0.532356\n",
      "3      Monday      1  0.467644\n",
      "4    Saturday      0  0.599447\n",
      "5    Saturday      1  0.400553\n",
      "6      Sunday      0  0.546459\n",
      "7      Sunday      1  0.453541\n",
      "8    Thursday      0  0.548975\n",
      "9    Thursday      1  0.451025\n",
      "10    Tuesday      0  0.552663\n",
      "11    Tuesday      1  0.447337\n",
      "12  Wednesday      0  0.529182\n",
      "13  Wednesday      1  0.470818\n"
     ]
    },
    {
     "data": {
      "text/plain": "<Figure size 1400x800 with 1 Axes>",
      "image/png": "[encoded data removed]"
     },
     "metadata": {},
     "output_type": "display_data"
    }
   ]
  },
  {
   "cell_type": "code",
   "execution_count": 35,
   "metadata": {
    "colab": {
     "base_uri": "https://localhost:8080/",
     "height": 1000
    },
    "id": "TolqaeXTlsoq",
    "outputId": "3bc423da-aa3d-4363-9c47-fee24e14a58b",
    "pycharm": {
     "name": "#%%\n"
    }
   },
   "outputs": [
    {
     "name": "stdout",
     "output_type": "stream",
     "text": [
      "   Airline  Class   Percent\n",
      "0       9E      0  0.602340\n",
      "1       9E      1  0.397660\n",
      "2       AA      0  0.611530\n",
      "3       AA      1  0.388470\n",
      "4       AS      0  0.660710\n",
      "5       AS      1  0.339290\n",
      "6       B6      0  0.532962\n",
      "7       B6      1  0.467038\n",
      "8       CO      1  0.566199\n",
      "9       CO      0  0.433801\n",
      "10      DL      0  0.549524\n",
      "11      DL      1  0.450476\n",
      "12      EV      0  0.597792\n",
      "13      EV      1  0.402208\n",
      "14      F9      0  0.550960\n",
      "15      F9      1  0.449040\n",
      "16      FL      0  0.698708\n",
      "17      FL      1  0.301292\n",
      "18      HA      0  0.679814\n",
      "19      HA      1  0.320186\n",
      "20      MQ      0  0.651896\n",
      "21      MQ      1  0.348104\n",
      "22      OH      0  0.722724\n",
      "23      OH      1  0.277276\n",
      "24      OO      0  0.547101\n",
      "25      OO      1  0.452899\n",
      "26      UA      0  0.676093\n",
      "27      UA      1  0.323907\n",
      "28      US      0  0.664029\n",
      "29      US      1  0.335971\n",
      "30      WN      1  0.697759\n",
      "31      WN      0  0.302241\n",
      "32      XE      0  0.621056\n",
      "33      XE      1  0.378944\n",
      "34      YV      0  0.757086\n",
      "35      YV      1  0.242914\n"
     ]
    },
    {
     "data": {
      "text/plain": "<Figure size 2000x800 with 1 Axes>",
      "image/png": "[encoded data removed]"
     },
     "metadata": {},
     "output_type": "display_data"
    }
   ],
   "source": [
    "df_cxa = df_minute.groupby(\"Airline\")[\"Class\"].value_counts(normalize=True)\n",
    "df_cxa = df_cxa.mul(1).rename('Percent').reset_index()\n",
    "print(df_cxa)\n",
    "\n",
    "df_cxa_p =sns.barplot(data=df_cxa,x=\"Percent\",y=\"Airline\",hue=\"Class\")\n",
    "for i in df_cxa_p.containers:\n",
    "    df_cxa_p.bar_label(i,)\n",
    "\n",
    "sns.set(rc = {'figure.figsize':(20,14)})"
   ]
  },
  {
   "cell_type": "code",
   "source": [
    "sns.boxplot(x=\"Class\", y=\"Length\", data=df_minute).set(title=\"Rapporto lunghezza dei voli/Ritardi\")\n",
    "\n",
    "sns.set(rc = {'figure.figsize':(20,8)})"
   ],
   "metadata": {
    "colab": {
     "base_uri": "https://localhost:8080/",
     "height": 1000
    },
    "id": "cXNfNZLNV2jK",
    "outputId": "b5b420f3-197e-4acc-b50a-d5f82ac3fd94",
    "pycharm": {
     "name": "#%%\n"
    }
   },
   "execution_count": 36,
   "outputs": [
    {
     "data": {
      "text/plain": "<Figure size 2000x1400 with 1 Axes>",
      "image/png": "[encoded data removed]"
     },
     "metadata": {},
     "output_type": "display_data"
    }
   ]
  },
  {
   "cell_type": "code",
   "source": [
    "sns.countplot(x='Time', hue='Class', data=df_minute, palette = \"coolwarm\", order = time_order)\n",
    "\n",
    "sns.set(rc = {'figure.figsize':(14,8)})"
   ],
   "metadata": {
    "colab": {
     "base_uri": "https://localhost:8080/",
     "height": 704
    },
    "id": "vyySuEy3KJXU",
    "outputId": "c75690d0-5cc7-44e3-a235-c2af36352ea4",
    "pycharm": {
     "name": "#%%\n"
    }
   },
   "execution_count": 37,
   "outputs": [
    {
     "data": {
      "text/plain": "<Figure size 2000x800 with 1 Axes>",
      "image/png": "[encoded data removed]"
     },
     "metadata": {},
     "output_type": "display_data"
    }
   ]
  },
  {
   "cell_type": "code",
   "source": [
    "df_cxa = df_minute.groupby(\"Time\")[\"Class\"].value_counts(normalize=True)\n",
    "df_cxa = df_cxa.mul(1).rename('Percent').reset_index()\n",
    "print(df_cxa)\n",
    "\n",
    "df_cxa_p =sns.barplot(data=df_cxa,x=\"Time\",y=\"Percent\",hue=\"Class\", palette = \"coolwarm\", order = time_order)\n",
    "for i in df_cxa_p.containers:\n",
    "    df_cxa_p.bar_label(i,)\n",
    "\n",
    "sns.set(rc = {'figure.figsize':(20,8)})"
   ],
   "metadata": {
    "colab": {
     "base_uri": "https://localhost:8080/",
     "height": 930
    },
    "id": "k4n5TDBbM6oe",
    "outputId": "44900bee-e6e5-4ac3-8ede-4649aa311968",
    "pycharm": {
     "name": "#%%\n"
    }
   },
   "execution_count": 38,
   "outputs": [
    {
     "name": "stdout",
     "output_type": "stream",
     "text": [
      "             Time  Class   Percent\n",
      "0       Afternoon      0  0.508314\n",
      "1       Afternoon      1  0.491686\n",
      "2   Early morning      0  0.721714\n",
      "3   Early morning      1  0.278286\n",
      "4         Evening      1  0.525215\n",
      "5         Evening      0  0.474785\n",
      "6      Late night      0  0.552839\n",
      "7      Late night      1  0.447161\n",
      "8         Morning      0  0.587635\n",
      "9         Morning      1  0.412365\n",
      "10          Night      0  0.516117\n",
      "11          Night      1  0.483883\n"
     ]
    },
    {
     "data": {
      "text/plain": "<Figure size 1400x800 with 1 Axes>",
      "image/png": "[encoded data removed]"
     },
     "metadata": {},
     "output_type": "display_data"
    }
   ]
  },
  {
   "cell_type": "markdown",
   "source": [
    "## Matrice di correlazione"
   ],
   "metadata": {
    "id": "RC8Rmj7UaCx6",
    "pycharm": {
     "name": "#%% md\n"
    }
   }
  },
  {
   "cell_type": "code",
   "source": [
    "df_cm = df.toPandas()"
   ],
   "metadata": {
    "id": "FmPds6kAZlQA",
    "pycharm": {
     "name": "#%%\n"
    }
   },
   "execution_count": 39,
   "outputs": []
  },
  {
   "cell_type": "code",
   "source": [
    "df_cm"
   ],
   "metadata": {
    "colab": {
     "base_uri": "https://localhost:8080/",
     "height": 424
    },
    "id": "xyDMTrWSaFRr",
    "outputId": "dedfca6b-d708-4751-a14b-57da1f2a8ec7",
    "pycharm": {
     "name": "#%%\n"
    }
   },
   "execution_count": 40,
   "outputs": [
    {
     "data": {
      "text/plain": "          Time  Length Airline AirportFrom AirportTo  DayOfWeek  Class\n0       1296.0   141.0      DL         ATL       HOU          1      0\n1        360.0   146.0      OO         COS       ORD          4      0\n2       1170.0   143.0      B6         BOS       CLT          3      0\n3       1410.0   344.0      US         OGG       PHX          6      0\n4        692.0    98.0      FL         BMI       ATL          4      0\n...        ...     ...     ...         ...       ...        ...    ...\n539377   530.0    72.0      OO         GEG       SEA          5      1\n539378   560.0   115.0      WN         LAS       DEN          4      1\n539379   827.0    74.0      EV         CAE       ATL          2      1\n539380   715.0    65.0      WN         BWI       BUF          4      1\n539381   770.0    55.0      OO         CPR       DEN          2      1\n\n[539382 rows x 7 columns]",
      "text/html": "<div>\n<style scoped>\n    .dataframe tbody tr th:only-of-type {\n        vertical-align: middle;\n    }\n\n    .dataframe tbody tr th {\n        vertical-align: top;\n    }\n\n    .dataframe thead th {\n        text-align: right;\n    }\n</style>\n<table border=\"1\" class=\"dataframe\">\n  <thead>\n    <tr style=\"text-align: right;\">\n      <th></th>\n      <th>Time</th>\n      <th>Length</th>\n      <th>Airline</th>\n      <th>AirportFrom</th>\n      <th>AirportTo</th>\n      <th>DayOfWeek</th>\n      <th>Class</th>\n    </tr>\n  </thead>\n  <tbody>\n    <tr>\n      <th>0</th>\n      <td>1296.0</td>\n      <td>141.0</td>\n      <td>DL</td>\n      <td>ATL</td>\n      <td>HOU</td>\n      <td>1</td>\n      <td>0</td>\n    </tr>\n    <tr>\n      <th>1</th>\n      <td>360.0</td>\n      <td>146.0</td>\n      <td>OO</td>\n      <td>COS</td>\n      <td>ORD</td>\n      <td>4</td>\n      <td>0</td>\n    </tr>\n    <tr>\n      <th>2</th>\n      <td>1170.0</td>\n      <td>143.0</td>\n      <td>B6</td>\n      <td>BOS</td>\n      <td>CLT</td>\n      <td>3</td>\n      <td>0</td>\n    </tr>\n    <tr>\n      <th>3</th>\n      <td>1410.0</td>\n      <td>344.0</td>\n      <td>US</td>\n      <td>OGG</td>\n      <td>PHX</td>\n      <td>6</td>\n      <td>0</td>\n    </tr>\n    <tr>\n      <th>4</th>\n      <td>692.0</td>\n      <td>98.0</td>\n      <td>FL</td>\n      <td>BMI</td>\n      <td>ATL</td>\n      <td>4</td>\n      <td>0</td>\n    </tr>\n    <tr>\n      <th>...</th>\n      <td>...</td>\n      <td>...</td>\n      <td>...</td>\n      <td>...</td>\n      <td>...</td>\n      <td>...</td>\n      <td>...</td>\n    </tr>\n    <tr>\n      <th>539377</th>\n      <td>530.0</td>\n      <td>72.0</td>\n      <td>OO</td>\n      <td>GEG</td>\n      <td>SEA</td>\n      <td>5</td>\n      <td>1</td>\n    </tr>\n    <tr>\n      <th>539378</th>\n      <td>560.0</td>\n      <td>115.0</td>\n      <td>WN</td>\n      <td>LAS</td>\n      <td>DEN</td>\n      <td>4</td>\n      <td>1</td>\n    </tr>\n    <tr>\n      <th>539379</th>\n      <td>827.0</td>\n      <td>74.0</td>\n      <td>EV</td>\n      <td>CAE</td>\n      <td>ATL</td>\n      <td>2</td>\n      <td>1</td>\n    </tr>\n    <tr>\n      <th>539380</th>\n      <td>715.0</td>\n      <td>65.0</td>\n      <td>WN</td>\n      <td>BWI</td>\n      <td>BUF</td>\n      <td>4</td>\n      <td>1</td>\n    </tr>\n    <tr>\n      <th>539381</th>\n      <td>770.0</td>\n      <td>55.0</td>\n      <td>OO</td>\n      <td>CPR</td>\n      <td>DEN</td>\n      <td>2</td>\n      <td>1</td>\n    </tr>\n  </tbody>\n</table>\n<p>539382 rows × 7 columns</p>\n</div>"
     },
     "execution_count": 40,
     "metadata": {},
     "output_type": "execute_result"
    }
   ]
  },
  {
   "cell_type": "code",
   "source": [
    "corr = df_cm.corr()\n",
    "corr"
   ],
   "metadata": {
    "colab": {
     "base_uri": "https://localhost:8080/",
     "height": 230
    },
    "id": "a0tSDHHUaSxX",
    "outputId": "03df060a-b380-4fb0-dec0-91dfc074cec1",
    "pycharm": {
     "name": "#%%\n"
    }
   },
   "execution_count": 41,
   "outputs": [
    {
     "name": "stderr",
     "output_type": "stream",
     "text": [
      "C:\\Users\\Frong\\AppData\\Local\\Temp\\ipykernel_15052\\470216087.py:1: FutureWarning: The default value of numeric_only in DataFrame.corr is deprecated. In a future version, it will default to False. Select only valid columns or specify the value of numeric_only to silence this warning.\n",
      "  corr = df_cm.corr()\n"
     ]
    },
    {
     "data": {
      "text/plain": "               Time    Length  DayOfWeek     Class\nTime       1.000000 -0.020610   0.001272  0.150457\nLength    -0.020610  1.000000   0.013398  0.040488\nDayOfWeek  0.001272  0.013398   1.000000 -0.026198\nClass      0.150457  0.040488  -0.026198  1.000000",
      "text/html": "<div>\n<style scoped>\n    .dataframe tbody tr th:only-of-type {\n        vertical-align: middle;\n    }\n\n    .dataframe tbody tr th {\n        vertical-align: top;\n    }\n\n    .dataframe thead th {\n        text-align: right;\n    }\n</style>\n<table border=\"1\" class=\"dataframe\">\n  <thead>\n    <tr style=\"text-align: right;\">\n      <th></th>\n      <th>Time</th>\n      <th>Length</th>\n      <th>DayOfWeek</th>\n      <th>Class</th>\n    </tr>\n  </thead>\n  <tbody>\n    <tr>\n      <th>Time</th>\n      <td>1.000000</td>\n      <td>-0.020610</td>\n      <td>0.001272</td>\n      <td>0.150457</td>\n    </tr>\n    <tr>\n      <th>Length</th>\n      <td>-0.020610</td>\n      <td>1.000000</td>\n      <td>0.013398</td>\n      <td>0.040488</td>\n    </tr>\n    <tr>\n      <th>DayOfWeek</th>\n      <td>0.001272</td>\n      <td>0.013398</td>\n      <td>1.000000</td>\n      <td>-0.026198</td>\n    </tr>\n    <tr>\n      <th>Class</th>\n      <td>0.150457</td>\n      <td>0.040488</td>\n      <td>-0.026198</td>\n      <td>1.000000</td>\n    </tr>\n  </tbody>\n</table>\n</div>"
     },
     "execution_count": 41,
     "metadata": {},
     "output_type": "execute_result"
    }
   ]
  },
  {
   "cell_type": "code",
   "source": [
    "corr.style.background_gradient(cmap = 'coolwarm')"
   ],
   "metadata": {
    "colab": {
     "base_uri": "https://localhost:8080/",
     "height": 175
    },
    "id": "MnTVMofAaj0E",
    "outputId": "e89e9467-4a8d-4284-c1d1-c028eb8fec03",
    "pycharm": {
     "name": "#%%\n"
    }
   },
   "execution_count": 42,
   "outputs": [
    {
     "data": {
      "text/plain": "<pandas.io.formats.style.Styler at 0x1563d174760>",
      "text/html": "<style type=\"text/css\">\n#T_33865_row0_col0, #T_33865_row1_col1, #T_33865_row2_col2, #T_33865_row3_col3 {\n  background-color: #b40426;\n  color: #f1f1f1;\n}\n#T_33865_row0_col1, #T_33865_row1_col0, #T_33865_row2_col3, #T_33865_row3_col2 {\n  background-color: #3b4cc0;\n  color: #f1f1f1;\n}\n#T_33865_row0_col2 {\n  background-color: #4257c9;\n  color: #f1f1f1;\n}\n#T_33865_row0_col3 {\n  background-color: #7295f4;\n  color: #f1f1f1;\n}\n#T_33865_row1_col2 {\n  background-color: #455cce;\n  color: #f1f1f1;\n}\n#T_33865_row1_col3 {\n  background-color: #4e68d8;\n  color: #f1f1f1;\n}\n#T_33865_row2_col0 {\n  background-color: #4055c8;\n  color: #f1f1f1;\n}\n#T_33865_row2_col1 {\n  background-color: #445acc;\n  color: #f1f1f1;\n}\n#T_33865_row3_col0 {\n  background-color: #6f92f3;\n  color: #f1f1f1;\n}\n#T_33865_row3_col1 {\n  background-color: #4c66d6;\n  color: #f1f1f1;\n}\n</style>\n<table id=\"T_33865\">\n  <thead>\n    <tr>\n      <th class=\"blank level0\" >&nbsp;</th>\n      <th id=\"T_33865_level0_col0\" class=\"col_heading level0 col0\" >Time</th>\n      <th id=\"T_33865_level0_col1\" class=\"col_heading level0 col1\" >Length</th>\n      <th id=\"T_33865_level0_col2\" class=\"col_heading level0 col2\" >DayOfWeek</th>\n      <th id=\"T_33865_level0_col3\" class=\"col_heading level0 col3\" >Class</th>\n    </tr>\n  </thead>\n  <tbody>\n    <tr>\n      <th id=\"T_33865_level0_row0\" class=\"row_heading level0 row0\" >Time</th>\n      <td id=\"T_33865_row0_col0\" class=\"data row0 col0\" >1.000000</td>\n      <td id=\"T_33865_row0_col1\" class=\"data row0 col1\" >-0.020610</td>\n      <td id=\"T_33865_row0_col2\" class=\"data row0 col2\" >0.001272</td>\n      <td id=\"T_33865_row0_col3\" class=\"data row0 col3\" >0.150457</td>\n    </tr>\n    <tr>\n      <th id=\"T_33865_level0_row1\" class=\"row_heading level0 row1\" >Length</th>\n      <td id=\"T_33865_row1_col0\" class=\"data row1 col0\" >-0.020610</td>\n      <td id=\"T_33865_row1_col1\" class=\"data row1 col1\" >1.000000</td>\n      <td id=\"T_33865_row1_col2\" class=\"data row1 col2\" >0.013398</td>\n      <td id=\"T_33865_row1_col3\" class=\"data row1 col3\" >0.040488</td>\n    </tr>\n    <tr>\n      <th id=\"T_33865_level0_row2\" class=\"row_heading level0 row2\" >DayOfWeek</th>\n      <td id=\"T_33865_row2_col0\" class=\"data row2 col0\" >0.001272</td>\n      <td id=\"T_33865_row2_col1\" class=\"data row2 col1\" >0.013398</td>\n      <td id=\"T_33865_row2_col2\" class=\"data row2 col2\" >1.000000</td>\n      <td id=\"T_33865_row2_col3\" class=\"data row2 col3\" >-0.026198</td>\n    </tr>\n    <tr>\n      <th id=\"T_33865_level0_row3\" class=\"row_heading level0 row3\" >Class</th>\n      <td id=\"T_33865_row3_col0\" class=\"data row3 col0\" >0.150457</td>\n      <td id=\"T_33865_row3_col1\" class=\"data row3 col1\" >0.040488</td>\n      <td id=\"T_33865_row3_col2\" class=\"data row3 col2\" >-0.026198</td>\n      <td id=\"T_33865_row3_col3\" class=\"data row3 col3\" >1.000000</td>\n    </tr>\n  </tbody>\n</table>\n"
     },
     "execution_count": 42,
     "metadata": {},
     "output_type": "execute_result"
    }
   ]
  },
  {
   "cell_type": "markdown",
   "metadata": {
    "id": "e6i193-HOUWE",
    "pycharm": {
     "name": "#%% md\n"
    }
   },
   "source": [
    "## Casting and encoding"
   ]
  },
  {
   "cell_type": "markdown",
   "metadata": {
    "id": "KgVOzOJFOUWF",
    "pycharm": {
     "name": "#%% md\n"
    }
   },
   "source": [
    "- Convert variables type"
   ]
  },
  {
   "cell_type": "code",
   "execution_count": 43,
   "metadata": {
    "id": "-eXlqrR9OUWF",
    "pycharm": {
     "name": "#%%\n"
    }
   },
   "outputs": [],
   "source": [
    "df = df.withColumn(\"Length\",funct.round(df[\"Length\"]).cast(\"Integer\"))"
   ]
  },
  {
   "cell_type": "code",
   "execution_count": 44,
   "outputs": [
    {
     "name": "stdout",
     "output_type": "stream",
     "text": [
      "root\n",
      " |-- Time: double (nullable = true)\n",
      " |-- Length: integer (nullable = true)\n",
      " |-- Airline: string (nullable = true)\n",
      " |-- AirportFrom: string (nullable = true)\n",
      " |-- AirportTo: string (nullable = true)\n",
      " |-- DayOfWeek: integer (nullable = true)\n",
      " |-- Class: integer (nullable = true)\n",
      "\n",
      "+------+------+-------+-----------+---------+---------+-----+\n",
      "|  Time|Length|Airline|AirportFrom|AirportTo|DayOfWeek|Class|\n",
      "+------+------+-------+-----------+---------+---------+-----+\n",
      "|1296.0|   141|     DL|        ATL|      HOU|        1|    0|\n",
      "| 360.0|   146|     OO|        COS|      ORD|        4|    0|\n",
      "|1170.0|   143|     B6|        BOS|      CLT|        3|    0|\n",
      "|1410.0|   344|     US|        OGG|      PHX|        6|    0|\n",
      "| 692.0|    98|     FL|        BMI|      ATL|        4|    0|\n",
      "| 580.0|    60|     WN|        MSY|      BHM|        4|    0|\n",
      "| 690.0|   239|     CO|        EWR|      DFW|        4|    0|\n",
      "|1210.0|    80|     AA|        DFW|      MEM|        3|    0|\n",
      "|1295.0|   105|     FL|        BWI|      GRR|        7|    0|\n",
      "| 530.0|   108|     FL|        ATL|      PBI|        3|    0|\n",
      "|1103.0|   121|     FL|        CRW|      MCO|        4|    0|\n",
      "| 951.0|    79|     B6|        LGB|      SFO|        7|    0|\n",
      "|1215.0|   102|     OO|        BIS|      DEN|        4|    0|\n",
      "|1189.0|   110|     YV|        CLT|      MEM|        4|    0|\n",
      "| 615.0|   142|     US|        IAH|      CLT|        4|    0|\n",
      "| 771.0|    70|     OO|        LAX|      YUM|        2|    0|\n",
      "| 948.0|   116|     FL|        JAX|      BWI|        5|    0|\n",
      "| 966.0|   134|     EV|        ATL|      HPN|        7|    0|\n",
      "|1160.0|   127|     XE|        SAV|      EWR|        4|    0|\n",
      "| 750.0|   119|     9E|        CLE|      JFK|        1|    0|\n",
      "+------+------+-------+-----------+---------+---------+-----+\n",
      "only showing top 20 rows\n",
      "\n"
     ]
    }
   ],
   "source": [
    "df.printSchema()\n",
    "df.show()"
   ],
   "metadata": {
    "collapsed": false,
    "pycharm": {
     "name": "#%%\n"
    }
   }
  },
  {
   "cell_type": "markdown",
   "source": [
    "## Data Pre-Processing"
   ],
   "metadata": {
    "collapsed": false,
    "id": "_jTOHibDD12g",
    "pycharm": {
     "name": "#%% md\n"
    }
   }
  },
  {
   "cell_type": "markdown",
   "source": [
    "## Quantitative Variables"
   ],
   "metadata": {
    "collapsed": false,
    "id": "M3caI3CFD12g",
    "pycharm": {
     "name": "#%% md\n"
    }
   }
  },
  {
   "cell_type": "code",
   "source": [
    "Length_vec= [VectorAssembler(inputCols=[\"Length\"], outputCol=\"Length_vec\")]\n",
    "robust_scaler1 = [RobustScaler(inputCol=\"Length_vec\", outputCol=\"Length_robust\")]\n",
    "\n",
    "assblr_2= [VectorAssembler(inputCols=[\"Time\",\"DayOfWeek\"], outputCol=\"Time_Day_vec\")]\n",
    "MinMaxScaler2 = [MinMaxScaler(inputCol=\"Time_Day_vec\", outputCol=\"Time_Day_minmax\")]\n",
    "\n",
    "pipeline = Pipeline(stages=Length_vec+robust_scaler1+assblr_2+MinMaxScaler2)\n",
    "\n",
    "pipe = pipeline.fit(df)\n",
    "scaled_df = pipe.transform(df)\n",
    "scaled_df.show()"
   ],
   "metadata": {
    "colab": {
     "base_uri": "https://localhost:8080/"
    },
    "id": "pFP94RVSJonu",
    "outputId": "62ab3f33-b7eb-4b21-ecc1-348f5f36fd2f",
    "pycharm": {
     "name": "#%%\n"
    }
   },
   "execution_count": 45,
   "outputs": [
    {
     "name": "stdout",
     "output_type": "stream",
     "text": [
      "+------+------+-------+-----------+---------+---------+-----+----------+--------------------+------------+--------------------+\n",
      "|  Time|Length|Airline|AirportFrom|AirportTo|DayOfWeek|Class|Length_vec|       Length_robust|Time_Day_vec|     Time_Day_minmax|\n",
      "+------+------+-------+-----------+---------+---------+-----+----------+--------------------+------------+--------------------+\n",
      "|1296.0|   141|     DL|        ATL|      HOU|        1|    0|   [141.0]|[1.7407407407407407]|[1296.0,1.0]|[0.89993002099370...|\n",
      "| 360.0|   146|     OO|        COS|      ORD|        4|    0|   [146.0]|[1.8024691358024691]| [360.0,4.0]|[0.24492652204338...|\n",
      "|1170.0|   143|     B6|        BOS|      CLT|        3|    0|   [143.0]| [1.765432098765432]|[1170.0,3.0]|[0.81175647305808...|\n",
      "|1410.0|   344|     US|        OGG|      PHX|        6|    0|   [344.0]| [4.246913580246913]|[1410.0,6.0]|[0.97970608817354...|\n",
      "| 692.0|    98|     FL|        BMI|      ATL|        4|    0|    [98.0]|[1.2098765432098766]| [692.0,4.0]|[0.47725682295311...|\n",
      "| 580.0|    60|     WN|        MSY|      BHM|        4|    0|    [60.0]|[0.7407407407407407]| [580.0,4.0]|[0.39888033589923...|\n",
      "| 690.0|   239|     CO|        EWR|      DFW|        4|    0|   [239.0]| [2.950617283950617]| [690.0,4.0]|[0.47585724282715...|\n",
      "|1210.0|    80|     AA|        DFW|      MEM|        3|    0|    [80.0]|[0.9876543209876543]|[1210.0,3.0]|[0.83974807557732...|\n",
      "|1295.0|   105|     FL|        BWI|      GRR|        7|    0|   [105.0]|[1.2962962962962963]|[1295.0,7.0]|[0.89923023093072...|\n",
      "| 530.0|   108|     FL|        ATL|      PBI|        3|    0|   [108.0]|[1.3333333333333333]| [530.0,3.0]|[0.36389083275017...|\n",
      "|1103.0|   121|     FL|        CRW|      MCO|        4|    0|   [121.0]|[1.4938271604938271]|[1103.0,4.0]|[0.76487053883834...|\n",
      "| 951.0|    79|     B6|        LGB|      SFO|        7|    0|    [79.0]|[0.9753086419753085]| [951.0,7.0]|[0.65850244926522...|\n",
      "|1215.0|   102|     OO|        BIS|      DEN|        4|    0|   [102.0]| [1.259259259259259]|[1215.0,4.0]|[0.84324702589223...|\n",
      "|1189.0|   110|     YV|        CLT|      MEM|        4|    0|   [110.0]|[1.3580246913580245]|[1189.0,4.0]|[0.82505248425472...|\n",
      "| 615.0|   142|     US|        IAH|      CLT|        4|    0|   [142.0]|[1.7530864197530862]| [615.0,4.0]|[0.42337298810356...|\n",
      "| 771.0|    70|     OO|        LAX|      YUM|        2|    0|    [70.0]|[0.8641975308641975]| [771.0,2.0]|[0.53254023792862...|\n",
      "| 948.0|   116|     FL|        JAX|      BWI|        5|    0|   [116.0]|[1.4320987654320987]| [948.0,5.0]|[0.65640307907627...|\n",
      "| 966.0|   134|     EV|        ATL|      HPN|        7|    0|   [134.0]|[1.6543209876543208]| [966.0,7.0]|[0.66899930020993...|\n",
      "|1160.0|   127|     XE|        SAV|      EWR|        4|    0|   [127.0]| [1.567901234567901]|[1160.0,4.0]|[0.80475857242827...|\n",
      "| 750.0|   119|     9E|        CLE|      JFK|        1|    0|   [119.0]|[1.4691358024691357]| [750.0,1.0]|[0.51784464660601...|\n",
      "+------+------+-------+-----------+---------+---------+-----+----------+--------------------+------------+--------------------+\n",
      "only showing top 20 rows\n",
      "\n"
     ]
    }
   ]
  },
  {
   "cell_type": "code",
   "source": [
    "scaled_df= scaled_df.drop(\"Length\")\n",
    "scaled_df=scaled_df.drop(\"Length_vec\")\n",
    "scaled_df=scaled_df.drop(\"Time\")\n",
    "scaled_df=scaled_df.drop(\"DayOfWeek\")\n",
    "scaled_df=scaled_df.drop(\"Time_Day_vec\")\n",
    "\n",
    "scaled_df.show()"
   ],
   "metadata": {
    "colab": {
     "base_uri": "https://localhost:8080/"
    },
    "id": "TlHlLjYWw1PT",
    "outputId": "05e2278d-a9dd-4081-c0c4-78629a195b77",
    "pycharm": {
     "name": "#%%\n"
    }
   },
   "execution_count": 46,
   "outputs": [
    {
     "name": "stdout",
     "output_type": "stream",
     "text": [
      "+-------+-----------+---------+-----+--------------------+--------------------+\n",
      "|Airline|AirportFrom|AirportTo|Class|       Length_robust|     Time_Day_minmax|\n",
      "+-------+-----------+---------+-----+--------------------+--------------------+\n",
      "|     DL|        ATL|      HOU|    0|[1.7407407407407407]|[0.89993002099370...|\n",
      "|     OO|        COS|      ORD|    0|[1.8024691358024691]|[0.24492652204338...|\n",
      "|     B6|        BOS|      CLT|    0| [1.765432098765432]|[0.81175647305808...|\n",
      "|     US|        OGG|      PHX|    0| [4.246913580246913]|[0.97970608817354...|\n",
      "|     FL|        BMI|      ATL|    0|[1.2098765432098766]|[0.47725682295311...|\n",
      "|     WN|        MSY|      BHM|    0|[0.7407407407407407]|[0.39888033589923...|\n",
      "|     CO|        EWR|      DFW|    0| [2.950617283950617]|[0.47585724282715...|\n",
      "|     AA|        DFW|      MEM|    0|[0.9876543209876543]|[0.83974807557732...|\n",
      "|     FL|        BWI|      GRR|    0|[1.2962962962962963]|[0.89923023093072...|\n",
      "|     FL|        ATL|      PBI|    0|[1.3333333333333333]|[0.36389083275017...|\n",
      "|     FL|        CRW|      MCO|    0|[1.4938271604938271]|[0.76487053883834...|\n",
      "|     B6|        LGB|      SFO|    0|[0.9753086419753085]|[0.65850244926522...|\n",
      "|     OO|        BIS|      DEN|    0| [1.259259259259259]|[0.84324702589223...|\n",
      "|     YV|        CLT|      MEM|    0|[1.3580246913580245]|[0.82505248425472...|\n",
      "|     US|        IAH|      CLT|    0|[1.7530864197530862]|[0.42337298810356...|\n",
      "|     OO|        LAX|      YUM|    0|[0.8641975308641975]|[0.53254023792862...|\n",
      "|     FL|        JAX|      BWI|    0|[1.4320987654320987]|[0.65640307907627...|\n",
      "|     EV|        ATL|      HPN|    0|[1.6543209876543208]|[0.66899930020993...|\n",
      "|     XE|        SAV|      EWR|    0| [1.567901234567901]|[0.80475857242827...|\n",
      "|     9E|        CLE|      JFK|    0|[1.4691358024691357]|[0.51784464660601...|\n",
      "+-------+-----------+---------+-----+--------------------+--------------------+\n",
      "only showing top 20 rows\n",
      "\n"
     ]
    }
   ]
  },
  {
   "cell_type": "markdown",
   "source": [
    "### Qualitative Variables"
   ],
   "metadata": {
    "collapsed": false,
    "id": "Y4yBVVjQD12h",
    "pycharm": {
     "name": "#%% md\n"
    }
   }
  },
  {
   "cell_type": "code",
   "execution_count": 47,
   "metadata": {
    "colab": {
     "base_uri": "https://localhost:8080/"
    },
    "id": "iBBTlmyQbsoK",
    "outputId": "e7da95b5-00e7-448c-8886-d63fa5e4bed3",
    "pycharm": {
     "name": "#%%\n"
    }
   },
   "outputs": [
    {
     "name": "stdout",
     "output_type": "stream",
     "text": [
      "root\n",
      " |-- Airline: string (nullable = true)\n",
      " |-- AirportFrom: string (nullable = true)\n",
      " |-- AirportTo: string (nullable = true)\n",
      " |-- Class: integer (nullable = true)\n",
      " |-- Length_robust: vector (nullable = true)\n",
      " |-- Time_Day_minmax: vector (nullable = true)\n",
      "\n"
     ]
    }
   ],
   "source": [
    "scaled_df.printSchema()"
   ]
  },
  {
   "cell_type": "code",
   "execution_count": 48,
   "metadata": {
    "id": "6EFEzICCb1V9",
    "pycharm": {
     "name": "#%%\n"
    }
   },
   "outputs": [],
   "source": [
    "indexer = StringIndexer(inputCols =(\"Airline\",\"AirportFrom\",\"AirportTo\"),outputCols = (\"AirlineIND\",\"AirportFromIND\",\"AirportToIND\"))"
   ]
  },
  {
   "cell_type": "code",
   "execution_count": 49,
   "metadata": {
    "colab": {
     "base_uri": "https://localhost:8080/"
    },
    "id": "EPc-HFBweCs2",
    "outputId": "84ba5694-7906-4bbf-d193-7361ed3c720b",
    "pycharm": {
     "name": "#%%\n"
    }
   },
   "outputs": [
    {
     "name": "stdout",
     "output_type": "stream",
     "text": [
      "+-------+-----------+---------+-----+--------------------+--------------------+----------+--------------+------------+\n",
      "|Airline|AirportFrom|AirportTo|Class|       Length_robust|     Time_Day_minmax|AirlineIND|AirportFromIND|AirportToIND|\n",
      "+-------+-----------+---------+-----+--------------------+--------------------+----------+--------------+------------+\n",
      "|     DL|        ATL|      HOU|    0|[1.7407407407407407]|[0.89993002099370...|       1.0|           0.0|        33.0|\n",
      "|     OO|        COS|      ORD|    0|[1.8024691358024691]|[0.24492652204338...|       2.0|          82.0|         1.0|\n",
      "|     B6|        BOS|      CLT|    0| [1.765432098765432]|[0.81175647305808...|      12.0|          16.0|        10.0|\n",
      "|     US|        OGG|      PHX|    0| [4.246913580246913]|[0.97970608817354...|       5.0|          63.0|         6.0|\n",
      "|     FL|        BMI|      ATL|    0|[1.2098765432098766]|[0.47725682295311...|      10.0|         139.0|         0.0|\n",
      "|     WN|        MSY|      BHM|    0|[0.7407407407407407]|[0.39888033589923...|       0.0|          44.0|        64.0|\n",
      "|     CO|        EWR|      DFW|    0| [2.950617283950617]|[0.47585724282715...|       9.0|          14.0|         2.0|\n",
      "|     AA|        DFW|      MEM|    0|[0.9876543209876543]|[0.83974807557732...|       3.0|           2.0|        25.0|\n",
      "|     FL|        BWI|      GRR|    0|[1.2962962962962963]|[0.89923023093072...|      10.0|          17.0|        84.0|\n",
      "|     FL|        ATL|      PBI|    0|[1.3333333333333333]|[0.36389083275017...|      10.0|           0.0|        53.0|\n",
      "|     FL|        CRW|      MCO|    0|[1.4938271604938271]|[0.76487053883834...|      10.0|         141.0|        11.0|\n",
      "|     B6|        LGB|      SFO|    0|[0.9753086419753085]|[0.65850244926522...|      12.0|          78.0|         9.0|\n",
      "|     OO|        BIS|      DEN|    0| [1.259259259259259]|[0.84324702589223...|       2.0|         153.0|         3.0|\n",
      "|     YV|        CLT|      MEM|    0|[1.3580246913580245]|[0.82505248425472...|      13.0|          10.0|        25.0|\n",
      "|     US|        IAH|      CLT|    0|[1.7530864197530862]|[0.42337298810356...|       5.0|           5.0|        10.0|\n",
      "|     OO|        LAX|      YUM|    0|[0.8641975308641975]|[0.53254023792862...|       2.0|           4.0|       150.0|\n",
      "|     FL|        JAX|      BWI|    0|[1.4320987654320987]|[0.65640307907627...|      10.0|          50.0|        17.0|\n",
      "|     EV|        ATL|      HPN|    0|[1.6543209876543208]|[0.66899930020993...|       7.0|           0.0|        97.0|\n",
      "|     XE|        SAV|      EWR|    0| [1.567901234567901]|[0.80475857242827...|       6.0|         101.0|        14.0|\n",
      "|     9E|        CLE|      JFK|    0|[1.4691358024691357]|[0.51784464660601...|      11.0|          30.0|        15.0|\n",
      "+-------+-----------+---------+-----+--------------------+--------------------+----------+--------------+------------+\n",
      "only showing top 20 rows\n",
      "\n"
     ]
    }
   ],
   "source": [
    "indexed = indexer.fit(scaled_df).transform(scaled_df)\n",
    "indexed.show()"
   ]
  },
  {
   "cell_type": "code",
   "execution_count": 50,
   "metadata": {
    "id": "2FiB5b40fPPd",
    "pycharm": {
     "name": "#%%\n"
    }
   },
   "outputs": [],
   "source": [
    "encoder = OneHotEncoder(inputCols= (\"AirlineIND\",\"AirportFromIND\",\"AirportToIND\"),outputCols=('AirlineENC','AirportFromENC',\"AirportToENC\"))"
   ]
  },
  {
   "cell_type": "code",
   "execution_count": 51,
   "metadata": {
    "id": "hDxUumPHfj-K",
    "pycharm": {
     "name": "#%%\n"
    }
   },
   "outputs": [],
   "source": [
    "encoded_df = encoder.fit(indexed).transform(indexed)"
   ]
  },
  {
   "cell_type": "code",
   "execution_count": 52,
   "metadata": {
    "colab": {
     "base_uri": "https://localhost:8080/"
    },
    "id": "N7rVbNYJfmdO",
    "outputId": "30930780-3b7a-4a20-90d8-eb4bc1d07b6f",
    "pycharm": {
     "name": "#%%\n"
    }
   },
   "outputs": [
    {
     "name": "stdout",
     "output_type": "stream",
     "text": [
      "+-------+-----------+---------+-----+--------------------+--------------------+----------+--------------+------------+---------------+-----------------+-----------------+\n",
      "|Airline|AirportFrom|AirportTo|Class|       Length_robust|     Time_Day_minmax|AirlineIND|AirportFromIND|AirportToIND|     AirlineENC|   AirportFromENC|     AirportToENC|\n",
      "+-------+-----------+---------+-----+--------------------+--------------------+----------+--------------+------------+---------------+-----------------+-----------------+\n",
      "|     DL|        ATL|      HOU|    0|[1.7407407407407407]|[0.89993002099370...|       1.0|           0.0|        33.0| (17,[1],[1.0])|  (292,[0],[1.0])| (292,[33],[1.0])|\n",
      "|     OO|        COS|      ORD|    0|[1.8024691358024691]|[0.24492652204338...|       2.0|          82.0|         1.0| (17,[2],[1.0])| (292,[82],[1.0])|  (292,[1],[1.0])|\n",
      "|     B6|        BOS|      CLT|    0| [1.765432098765432]|[0.81175647305808...|      12.0|          16.0|        10.0|(17,[12],[1.0])| (292,[16],[1.0])| (292,[10],[1.0])|\n",
      "|     US|        OGG|      PHX|    0| [4.246913580246913]|[0.97970608817354...|       5.0|          63.0|         6.0| (17,[5],[1.0])| (292,[63],[1.0])|  (292,[6],[1.0])|\n",
      "|     FL|        BMI|      ATL|    0|[1.2098765432098766]|[0.47725682295311...|      10.0|         139.0|         0.0|(17,[10],[1.0])|(292,[139],[1.0])|  (292,[0],[1.0])|\n",
      "|     WN|        MSY|      BHM|    0|[0.7407407407407407]|[0.39888033589923...|       0.0|          44.0|        64.0| (17,[0],[1.0])| (292,[44],[1.0])| (292,[64],[1.0])|\n",
      "|     CO|        EWR|      DFW|    0| [2.950617283950617]|[0.47585724282715...|       9.0|          14.0|         2.0| (17,[9],[1.0])| (292,[14],[1.0])|  (292,[2],[1.0])|\n",
      "|     AA|        DFW|      MEM|    0|[0.9876543209876543]|[0.83974807557732...|       3.0|           2.0|        25.0| (17,[3],[1.0])|  (292,[2],[1.0])| (292,[25],[1.0])|\n",
      "|     FL|        BWI|      GRR|    0|[1.2962962962962963]|[0.89923023093072...|      10.0|          17.0|        84.0|(17,[10],[1.0])| (292,[17],[1.0])| (292,[84],[1.0])|\n",
      "|     FL|        ATL|      PBI|    0|[1.3333333333333333]|[0.36389083275017...|      10.0|           0.0|        53.0|(17,[10],[1.0])|  (292,[0],[1.0])| (292,[53],[1.0])|\n",
      "|     FL|        CRW|      MCO|    0|[1.4938271604938271]|[0.76487053883834...|      10.0|         141.0|        11.0|(17,[10],[1.0])|(292,[141],[1.0])| (292,[11],[1.0])|\n",
      "|     B6|        LGB|      SFO|    0|[0.9753086419753085]|[0.65850244926522...|      12.0|          78.0|         9.0|(17,[12],[1.0])| (292,[78],[1.0])|  (292,[9],[1.0])|\n",
      "|     OO|        BIS|      DEN|    0| [1.259259259259259]|[0.84324702589223...|       2.0|         153.0|         3.0| (17,[2],[1.0])|(292,[153],[1.0])|  (292,[3],[1.0])|\n",
      "|     YV|        CLT|      MEM|    0|[1.3580246913580245]|[0.82505248425472...|      13.0|          10.0|        25.0|(17,[13],[1.0])| (292,[10],[1.0])| (292,[25],[1.0])|\n",
      "|     US|        IAH|      CLT|    0|[1.7530864197530862]|[0.42337298810356...|       5.0|           5.0|        10.0| (17,[5],[1.0])|  (292,[5],[1.0])| (292,[10],[1.0])|\n",
      "|     OO|        LAX|      YUM|    0|[0.8641975308641975]|[0.53254023792862...|       2.0|           4.0|       150.0| (17,[2],[1.0])|  (292,[4],[1.0])|(292,[150],[1.0])|\n",
      "|     FL|        JAX|      BWI|    0|[1.4320987654320987]|[0.65640307907627...|      10.0|          50.0|        17.0|(17,[10],[1.0])| (292,[50],[1.0])| (292,[17],[1.0])|\n",
      "|     EV|        ATL|      HPN|    0|[1.6543209876543208]|[0.66899930020993...|       7.0|           0.0|        97.0| (17,[7],[1.0])|  (292,[0],[1.0])| (292,[97],[1.0])|\n",
      "|     XE|        SAV|      EWR|    0| [1.567901234567901]|[0.80475857242827...|       6.0|         101.0|        14.0| (17,[6],[1.0])|(292,[101],[1.0])| (292,[14],[1.0])|\n",
      "|     9E|        CLE|      JFK|    0|[1.4691358024691357]|[0.51784464660601...|      11.0|          30.0|        15.0|(17,[11],[1.0])| (292,[30],[1.0])| (292,[15],[1.0])|\n",
      "+-------+-----------+---------+-----+--------------------+--------------------+----------+--------------+------------+---------------+-----------------+-----------------+\n",
      "only showing top 20 rows\n",
      "\n"
     ]
    }
   ],
   "source": [
    "encoded_df.show()"
   ]
  },
  {
   "cell_type": "code",
   "execution_count": 53,
   "metadata": {
    "colab": {
     "base_uri": "https://localhost:8080/"
    },
    "id": "M5WFvttAfsxJ",
    "outputId": "d6f8f336-b6bb-493e-ce34-a1d667592688",
    "pycharm": {
     "name": "#%%\n"
    }
   },
   "outputs": [
    {
     "name": "stdout",
     "output_type": "stream",
     "text": [
      "root\n",
      " |-- Airline: string (nullable = true)\n",
      " |-- AirportFrom: string (nullable = true)\n",
      " |-- AirportTo: string (nullable = true)\n",
      " |-- Class: integer (nullable = true)\n",
      " |-- Length_robust: vector (nullable = true)\n",
      " |-- Time_Day_minmax: vector (nullable = true)\n",
      " |-- AirlineIND: double (nullable = false)\n",
      " |-- AirportFromIND: double (nullable = false)\n",
      " |-- AirportToIND: double (nullable = false)\n",
      " |-- AirlineENC: vector (nullable = true)\n",
      " |-- AirportFromENC: vector (nullable = true)\n",
      " |-- AirportToENC: vector (nullable = true)\n",
      "\n"
     ]
    }
   ],
   "source": [
    "encoded_df.printSchema()"
   ]
  },
  {
   "cell_type": "code",
   "execution_count": 54,
   "metadata": {
    "colab": {
     "base_uri": "https://localhost:8080/"
    },
    "id": "vsDYd9uOfxvA",
    "outputId": "9f3ec8df-9de7-4d63-a99f-e84831918ea0",
    "pycharm": {
     "name": "#%%\n"
    }
   },
   "outputs": [
    {
     "name": "stdout",
     "output_type": "stream",
     "text": [
      "root\n",
      " |-- Class: integer (nullable = true)\n",
      " |-- Length_robust: vector (nullable = true)\n",
      " |-- Time_Day_minmax: vector (nullable = true)\n",
      " |-- AirlineENC: vector (nullable = true)\n",
      " |-- AirportFromENC: vector (nullable = true)\n",
      " |-- AirportToENC: vector (nullable = true)\n",
      "\n",
      "+-----+--------------------+--------------------+---------------+-----------------+-----------------+\n",
      "|Class|       Length_robust|     Time_Day_minmax|     AirlineENC|   AirportFromENC|     AirportToENC|\n",
      "+-----+--------------------+--------------------+---------------+-----------------+-----------------+\n",
      "|    0|[1.7407407407407407]|[0.89993002099370...| (17,[1],[1.0])|  (292,[0],[1.0])| (292,[33],[1.0])|\n",
      "|    0|[1.8024691358024691]|[0.24492652204338...| (17,[2],[1.0])| (292,[82],[1.0])|  (292,[1],[1.0])|\n",
      "|    0| [1.765432098765432]|[0.81175647305808...|(17,[12],[1.0])| (292,[16],[1.0])| (292,[10],[1.0])|\n",
      "|    0| [4.246913580246913]|[0.97970608817354...| (17,[5],[1.0])| (292,[63],[1.0])|  (292,[6],[1.0])|\n",
      "|    0|[1.2098765432098766]|[0.47725682295311...|(17,[10],[1.0])|(292,[139],[1.0])|  (292,[0],[1.0])|\n",
      "|    0|[0.7407407407407407]|[0.39888033589923...| (17,[0],[1.0])| (292,[44],[1.0])| (292,[64],[1.0])|\n",
      "|    0| [2.950617283950617]|[0.47585724282715...| (17,[9],[1.0])| (292,[14],[1.0])|  (292,[2],[1.0])|\n",
      "|    0|[0.9876543209876543]|[0.83974807557732...| (17,[3],[1.0])|  (292,[2],[1.0])| (292,[25],[1.0])|\n",
      "|    0|[1.2962962962962963]|[0.89923023093072...|(17,[10],[1.0])| (292,[17],[1.0])| (292,[84],[1.0])|\n",
      "|    0|[1.3333333333333333]|[0.36389083275017...|(17,[10],[1.0])|  (292,[0],[1.0])| (292,[53],[1.0])|\n",
      "|    0|[1.4938271604938271]|[0.76487053883834...|(17,[10],[1.0])|(292,[141],[1.0])| (292,[11],[1.0])|\n",
      "|    0|[0.9753086419753085]|[0.65850244926522...|(17,[12],[1.0])| (292,[78],[1.0])|  (292,[9],[1.0])|\n",
      "|    0| [1.259259259259259]|[0.84324702589223...| (17,[2],[1.0])|(292,[153],[1.0])|  (292,[3],[1.0])|\n",
      "|    0|[1.3580246913580245]|[0.82505248425472...|(17,[13],[1.0])| (292,[10],[1.0])| (292,[25],[1.0])|\n",
      "|    0|[1.7530864197530862]|[0.42337298810356...| (17,[5],[1.0])|  (292,[5],[1.0])| (292,[10],[1.0])|\n",
      "|    0|[0.8641975308641975]|[0.53254023792862...| (17,[2],[1.0])|  (292,[4],[1.0])|(292,[150],[1.0])|\n",
      "|    0|[1.4320987654320987]|[0.65640307907627...|(17,[10],[1.0])| (292,[50],[1.0])| (292,[17],[1.0])|\n",
      "|    0|[1.6543209876543208]|[0.66899930020993...| (17,[7],[1.0])|  (292,[0],[1.0])| (292,[97],[1.0])|\n",
      "|    0| [1.567901234567901]|[0.80475857242827...| (17,[6],[1.0])|(292,[101],[1.0])| (292,[14],[1.0])|\n",
      "|    0|[1.4691358024691357]|[0.51784464660601...|(17,[11],[1.0])| (292,[30],[1.0])| (292,[15],[1.0])|\n",
      "+-----+--------------------+--------------------+---------------+-----------------+-----------------+\n",
      "only showing top 20 rows\n",
      "\n"
     ]
    }
   ],
   "source": [
    "encoded_clean_df = encoded_df.drop(\"Airline\",\"AirportFrom\",\"AirportTo\",\"AirlineIND\",\"AirportFromIND\",\"AirportToIND\")\n",
    "encoded_clean_df.printSchema()\n",
    "encoded_clean_df.show()"
   ]
  },
  {
   "cell_type": "markdown",
   "metadata": {
    "id": "gEQlDhYiA_bL",
    "pycharm": {
     "name": "#%% md\n"
    }
   },
   "source": [
    "## Vector Assembler operation to create feature's vector (X)"
   ]
  },
  {
   "cell_type": "code",
   "execution_count": 55,
   "metadata": {
    "id": "6r1DZPMCBD0F",
    "pycharm": {
     "name": "#%%\n"
    }
   },
   "outputs": [],
   "source": [
    "final_assembler = VectorAssembler(inputCols=[\"Length_robust\", \"Time_Day_minmax\", \"AirlineENC\",\"AirportFromENC\",\"AirportToENC\"], outputCol='Features')"
   ]
  },
  {
   "cell_type": "code",
   "execution_count": 56,
   "metadata": {
    "colab": {
     "base_uri": "https://localhost:8080/"
    },
    "id": "JGgmN9dqClUO",
    "outputId": "d6e79965-f345-4595-d95b-d7a8f3829396",
    "pycharm": {
     "name": "#%%\n"
    }
   },
   "outputs": [
    {
     "name": "stdout",
     "output_type": "stream",
     "text": [
      "+-----+--------------------+--------------------+---------------+-----------------+-----------------+--------------------+\n",
      "|Class|       Length_robust|     Time_Day_minmax|     AirlineENC|   AirportFromENC|     AirportToENC|            Features|\n",
      "+-----+--------------------+--------------------+---------------+-----------------+-----------------+--------------------+\n",
      "|    0|[1.7407407407407407]|[0.89993002099370...| (17,[1],[1.0])|  (292,[0],[1.0])| (292,[33],[1.0])|(604,[0,1,4,20,34...|\n",
      "|    0|[1.8024691358024691]|[0.24492652204338...| (17,[2],[1.0])| (292,[82],[1.0])|  (292,[1],[1.0])|(604,[0,1,2,5,102...|\n",
      "|    0| [1.765432098765432]|[0.81175647305808...|(17,[12],[1.0])| (292,[16],[1.0])| (292,[10],[1.0])|(604,[0,1,2,15,36...|\n",
      "|    0| [4.246913580246913]|[0.97970608817354...| (17,[5],[1.0])| (292,[63],[1.0])|  (292,[6],[1.0])|(604,[0,1,2,8,83,...|\n",
      "|    0|[1.2098765432098766]|[0.47725682295311...|(17,[10],[1.0])|(292,[139],[1.0])|  (292,[0],[1.0])|(604,[0,1,2,13,15...|\n",
      "|    0|[0.7407407407407407]|[0.39888033589923...| (17,[0],[1.0])| (292,[44],[1.0])| (292,[64],[1.0])|(604,[0,1,2,3,64,...|\n",
      "|    0| [2.950617283950617]|[0.47585724282715...| (17,[9],[1.0])| (292,[14],[1.0])|  (292,[2],[1.0])|(604,[0,1,2,12,34...|\n",
      "|    0|[0.9876543209876543]|[0.83974807557732...| (17,[3],[1.0])|  (292,[2],[1.0])| (292,[25],[1.0])|(604,[0,1,2,6,22,...|\n",
      "|    0|[1.2962962962962963]|[0.89923023093072...|(17,[10],[1.0])| (292,[17],[1.0])| (292,[84],[1.0])|(604,[0,1,2,13,37...|\n",
      "|    0|[1.3333333333333333]|[0.36389083275017...|(17,[10],[1.0])|  (292,[0],[1.0])| (292,[53],[1.0])|(604,[0,1,2,13,20...|\n",
      "|    0|[1.4938271604938271]|[0.76487053883834...|(17,[10],[1.0])|(292,[141],[1.0])| (292,[11],[1.0])|(604,[0,1,2,13,16...|\n",
      "|    0|[0.9753086419753085]|[0.65850244926522...|(17,[12],[1.0])| (292,[78],[1.0])|  (292,[9],[1.0])|(604,[0,1,2,15,98...|\n",
      "|    0| [1.259259259259259]|[0.84324702589223...| (17,[2],[1.0])|(292,[153],[1.0])|  (292,[3],[1.0])|(604,[0,1,2,5,173...|\n",
      "|    0|[1.3580246913580245]|[0.82505248425472...|(17,[13],[1.0])| (292,[10],[1.0])| (292,[25],[1.0])|(604,[0,1,2,16,30...|\n",
      "|    0|[1.7530864197530862]|[0.42337298810356...| (17,[5],[1.0])|  (292,[5],[1.0])| (292,[10],[1.0])|(604,[0,1,2,8,25,...|\n",
      "|    0|[0.8641975308641975]|[0.53254023792862...| (17,[2],[1.0])|  (292,[4],[1.0])|(292,[150],[1.0])|(604,[0,1,2,5,24,...|\n",
      "|    0|[1.4320987654320987]|[0.65640307907627...|(17,[10],[1.0])| (292,[50],[1.0])| (292,[17],[1.0])|(604,[0,1,2,13,70...|\n",
      "|    0|[1.6543209876543208]|[0.66899930020993...| (17,[7],[1.0])|  (292,[0],[1.0])| (292,[97],[1.0])|(604,[0,1,2,10,20...|\n",
      "|    0| [1.567901234567901]|[0.80475857242827...| (17,[6],[1.0])|(292,[101],[1.0])| (292,[14],[1.0])|(604,[0,1,2,9,121...|\n",
      "|    0|[1.4691358024691357]|[0.51784464660601...|(17,[11],[1.0])| (292,[30],[1.0])| (292,[15],[1.0])|(604,[0,1,14,50,3...|\n",
      "+-----+--------------------+--------------------+---------------+-----------------+-----------------+--------------------+\n",
      "only showing top 20 rows\n",
      "\n"
     ]
    }
   ],
   "source": [
    "transform = final_assembler.transform(encoded_clean_df)\n",
    "transform.show()"
   ]
  },
  {
   "cell_type": "code",
   "execution_count": 57,
   "metadata": {
    "id": "PaA9pU3TEIZP",
    "pycharm": {
     "name": "#%%\n"
    }
   },
   "outputs": [],
   "source": [
    "final_df = transform.select(\"Class\",\"Features\")"
   ]
  },
  {
   "cell_type": "code",
   "execution_count": 58,
   "metadata": {
    "colab": {
     "base_uri": "https://localhost:8080/"
    },
    "id": "tD2R-ubYEvvO",
    "outputId": "469d7f09-f313-4b14-a4a1-33b2e1533708",
    "pycharm": {
     "name": "#%%\n"
    }
   },
   "outputs": [
    {
     "name": "stdout",
     "output_type": "stream",
     "text": [
      "+-----+--------------------+\n",
      "|Class|            Features|\n",
      "+-----+--------------------+\n",
      "|    0|(604,[0,1,4,20,34...|\n",
      "|    0|(604,[0,1,2,5,102...|\n",
      "|    0|(604,[0,1,2,15,36...|\n",
      "|    0|(604,[0,1,2,8,83,...|\n",
      "|    0|(604,[0,1,2,13,15...|\n",
      "|    0|(604,[0,1,2,3,64,...|\n",
      "|    0|(604,[0,1,2,12,34...|\n",
      "|    0|(604,[0,1,2,6,22,...|\n",
      "|    0|(604,[0,1,2,13,37...|\n",
      "|    0|(604,[0,1,2,13,20...|\n",
      "|    0|(604,[0,1,2,13,16...|\n",
      "|    0|(604,[0,1,2,15,98...|\n",
      "|    0|(604,[0,1,2,5,173...|\n",
      "|    0|(604,[0,1,2,16,30...|\n",
      "|    0|(604,[0,1,2,8,25,...|\n",
      "|    0|(604,[0,1,2,5,24,...|\n",
      "|    0|(604,[0,1,2,13,70...|\n",
      "|    0|(604,[0,1,2,10,20...|\n",
      "|    0|(604,[0,1,2,9,121...|\n",
      "|    0|(604,[0,1,14,50,3...|\n",
      "+-----+--------------------+\n",
      "only showing top 20 rows\n",
      "\n"
     ]
    }
   ],
   "source": [
    "final_df.show()"
   ]
  },
  {
   "cell_type": "markdown",
   "metadata": {
    "id": "B22u_g9dOKce",
    "pycharm": {
     "name": "#%% md\n"
    }
   },
   "source": [
    "## Division into training set and test set\n"
   ]
  },
  {
   "cell_type": "code",
   "execution_count": 59,
   "metadata": {
    "id": "RTatsLlpOJ_d",
    "pycharm": {
     "name": "#%%\n"
    }
   },
   "outputs": [],
   "source": [
    "random.seed(1)\n",
    "training, test = final_df.randomSplit([0.8,0.2], seed=0)"
   ]
  },
  {
   "cell_type": "code",
   "execution_count": 60,
   "metadata": {
    "colab": {
     "base_uri": "https://localhost:8080/"
    },
    "id": "55ecLcSrQvf4",
    "outputId": "5b121d93-4620-4b18-c16c-bf4d14951a98",
    "pycharm": {
     "name": "#%%\n"
    }
   },
   "outputs": [
    {
     "data": {
      "text/plain": "(431436, 107946)"
     },
     "execution_count": 60,
     "metadata": {},
     "output_type": "execute_result"
    }
   ],
   "source": [
    "(training.count(), test.count())"
   ]
  },
  {
   "cell_type": "markdown",
   "metadata": {
    "id": "_vN5MtejRNl4",
    "pycharm": {
     "name": "#%% md\n"
    }
   },
   "source": [
    "# Machine Learning models"
   ]
  },
  {
   "cell_type": "markdown",
   "metadata": {
    "id": "IpWQATloIcLg",
    "pycharm": {
     "name": "#%% md\n"
    }
   },
   "source": [
    "## Random forest"
   ]
  },
  {
   "cell_type": "markdown",
   "metadata": {
    "id": "Bi23M74Jrvfk",
    "pycharm": {
     "name": "#%% md\n"
    }
   },
   "source": [
    "#### Parametri scelti arbitrariamente"
   ]
  },
  {
   "cell_type": "code",
   "execution_count": 61,
   "metadata": {
    "id": "-mm9UjVEIew4",
    "pycharm": {
     "name": "#%%\n"
    }
   },
   "outputs": [],
   "source": [
    "from pyspark.ml.classification import RandomForestClassifier"
   ]
  },
  {
   "cell_type": "code",
   "execution_count": 63,
   "metadata": {
    "id": "38Xovge-KJL3",
    "pycharm": {
     "name": "#%%\n"
    }
   },
   "outputs": [],
   "source": [
    "classifier = RandomForestClassifier(maxDepth=14, numTrees=25, labelCol=\"Class\", featuresCol=\"Features\")\n",
    "model = classifier.fit(training)"
   ]
  },
  {
   "cell_type": "code",
   "execution_count": 64,
   "metadata": {
    "colab": {
     "base_uri": "https://localhost:8080/"
    },
    "id": "kmoImxDPThT4",
    "outputId": "b3b2edc3-dfb3-4c98-c6ae-4bdb6c799efb",
    "pycharm": {
     "name": "#%%\n"
    }
   },
   "outputs": [
    {
     "data": {
      "text/plain": "SparseVector(604, {0: 0.0278, 1: 0.1791, 2: 0.0117, 3: 0.3095, 4: 0.0043, 5: 0.0028, 6: 0.0067, 7: 0.0162, 8: 0.0361, 9: 0.0063, 10: 0.0011, 11: 0.0219, 12: 0.0259, 13: 0.0221, 14: 0.0012, 15: 0.0016, 16: 0.0314, 17: 0.0245, 18: 0.0057, 19: 0.0007, 20: 0.0018, 21: 0.0075, 22: 0.0009, 23: 0.0004, 24: 0.0024, 25: 0.0041, 26: 0.0015, 27: 0.0012, 28: 0.0078, 29: 0.0031, 30: 0.0016, 31: 0.0009, 32: 0.0025, 33: 0.001, 34: 0.0004, 35: 0.0009, 36: 0.0005, 37: 0.0077, 38: 0.0008, 39: 0.0007, 40: 0.0003, 41: 0.0308, 42: 0.0033, 43: 0.0002, 44: 0.0004, 45: 0.0065, 46: 0.0011, 47: 0.001, 48: 0.0005, 49: 0.0007, 50: 0.0004, 51: 0.0005, 52: 0.0014, 53: 0.0058, 54: 0.0003, 55: 0.0001, 56: 0.0004, 57: 0.0001, 58: 0.0005, 59: 0.0176, 60: 0.0184, 61: 0.0003, 62: 0.0003, 63: 0.0046, 64: 0.0004, 65: 0.0018, 66: 0.0002, 67: 0.0002, 68: 0.0003, 69: 0.0005, 70: 0.0003, 71: 0.0011, 72: 0.0001, 73: 0.0003, 74: 0.0001, 75: 0.0001, 76: 0.0001, 77: 0.0001, 78: 0.0001, 79: 0.0004, 80: 0.0001, 81: 0.0003, 82: 0.0, 83: 0.0011, 84: 0.0001, 85: 0.0001, 86: 0.0003, 87: 0.0001, 88: 0.0, 89: 0.0004, 90: 0.0001, 91: 0.0002, 92: 0.0, 93: 0.0, 94: 0.0001, 95: 0.0, 96: 0.0001, 97: 0.0002, 98: 0.0, 99: 0.0003, 100: 0.0001, 101: 0.0001, 103: 0.0001, 104: 0.0001, 105: 0.0001, 106: 0.0004, 107: 0.0001, 108: 0.0, 110: 0.0001, 111: 0.0005, 112: 0.0003, 113: 0.0, 114: 0.0001, 115: 0.0, 117: 0.0001, 118: 0.0, 119: 0.0, 120: 0.0, 121: 0.0, 122: 0.0, 123: 0.0007, 124: 0.0003, 125: 0.0, 126: 0.0, 127: 0.0, 128: 0.0, 129: 0.0001, 130: 0.0, 131: 0.0004, 132: 0.0001, 133: 0.0003, 135: 0.0, 137: 0.0, 138: 0.0, 139: 0.0001, 142: 0.0, 143: 0.0, 144: 0.0, 146: 0.0001, 148: 0.0, 149: 0.0, 150: 0.0001, 151: 0.0001, 152: 0.0, 153: 0.0, 154: 0.0, 155: 0.0, 156: 0.0, 157: 0.0001, 158: 0.0, 159: 0.0, 160: 0.0, 161: 0.0001, 163: 0.0001, 164: 0.0, 165: 0.0, 167: 0.0, 168: 0.0, 169: 0.0, 170: 0.0, 172: 0.0, 175: 0.0, 176: 0.0, 180: 0.0, 181: 0.0, 183: 0.0, 186: 0.0001, 187: 0.0, 190: 0.0, 191: 0.0, 192: 0.0, 194: 0.0, 195: 0.0, 199: 0.0, 200: 0.0, 201: 0.0, 206: 0.0, 207: 0.0, 209: 0.0, 212: 0.0001, 215: 0.0, 216: 0.0, 217: 0.0, 218: 0.0, 222: 0.0, 228: 0.0, 230: 0.0, 233: 0.0, 234: 0.0, 237: 0.0, 240: 0.0, 243: 0.0, 246: 0.0, 250: 0.0, 254: 0.0, 263: 0.0, 264: 0.0, 279: 0.0, 288: 0.0, 294: 0.0, 295: 0.0, 298: 0.0, 307: 0.0, 312: 0.0043, 313: 0.0043, 314: 0.019, 315: 0.0009, 316: 0.0008, 317: 0.0016, 318: 0.0019, 319: 0.0003, 320: 0.0055, 321: 0.0026, 322: 0.011, 323: 0.0005, 324: 0.0006, 325: 0.0004, 326: 0.0004, 327: 0.0005, 328: 0.0006, 329: 0.0005, 330: 0.0008, 331: 0.0007, 332: 0.0004, 333: 0.0121, 334: 0.0018, 335: 0.0004, 336: 0.0015, 337: 0.0017, 338: 0.0065, 339: 0.0001, 340: 0.0012, 341: 0.0006, 342: 0.0002, 343: 0.0, 344: 0.0019, 345: 0.0027, 346: 0.0001, 347: 0.0001, 348: 0.001, 349: 0.0002, 350: 0.0001, 351: 0.0016, 352: 0.0017, 353: 0.0001, 354: 0.0001, 355: 0.0011, 356: 0.0001, 357: 0.001, 358: 0.0001, 359: 0.0005, 360: 0.0001, 361: 0.0004, 362: 0.0, 363: 0.0001, 364: 0.0001, 365: 0.0, 366: 0.0001, 367: 0.001, 368: 0.0001, 369: 0.0, 370: 0.0019, 371: 0.0, 372: 0.0002, 373: 0.0, 374: 0.0001, 375: 0.0008, 376: 0.0, 377: 0.0003, 378: 0.0001, 379: 0.0, 380: 0.0001, 381: 0.0, 382: 0.0, 383: 0.0002, 384: 0.0001, 385: 0.0, 386: 0.0003, 387: 0.0, 388: 0.0001, 389: 0.0001, 390: 0.0, 391: 0.0, 392: 0.0, 393: 0.0001, 394: 0.0, 395: 0.0, 396: 0.0001, 397: 0.0, 398: 0.0, 399: 0.0, 400: 0.0, 401: 0.0001, 402: 0.0, 403: 0.0, 404: 0.0, 406: 0.0, 407: 0.0, 408: 0.0, 409: 0.0, 410: 0.0, 411: 0.0001, 412: 0.0, 414: 0.0001, 415: 0.0, 419: 0.0001, 420: 0.0, 421: 0.0, 423: 0.0, 426: 0.0, 427: 0.0, 428: 0.0, 429: 0.0, 430: 0.0001, 432: 0.0, 433: 0.0, 435: 0.0, 436: 0.0, 438: 0.0, 439: 0.0, 440: 0.0, 441: 0.0, 442: 0.0, 444: 0.0001, 445: 0.0, 446: 0.0001, 447: 0.0, 448: 0.0, 449: 0.0, 450: 0.0, 452: 0.0, 453: 0.0, 455: 0.0001, 456: 0.0, 458: 0.0001, 460: 0.0, 462: 0.0, 463: 0.0, 464: 0.0, 466: 0.0, 470: 0.0001, 473: 0.0, 480: 0.0, 483: 0.0001, 484: 0.0, 485: 0.0, 486: 0.0, 488: 0.0, 489: 0.0, 490: 0.0, 492: 0.0, 497: 0.0, 501: 0.0, 502: 0.0, 503: 0.0, 506: 0.0001, 513: 0.0, 514: 0.0, 515: 0.0, 516: 0.0001, 518: 0.0, 520: 0.0, 525: 0.0, 531: 0.0, 532: 0.0, 539: 0.0, 542: 0.0001, 544: 0.0, 550: 0.0, 562: 0.0, 570: 0.0, 572: 0.0, 573: 0.0, 578: 0.0, 579: 0.0, 580: 0.0, 581: 0.0, 591: 0.0, 599: 0.0, 602: 0.0, 603: 0.0})"
     },
     "execution_count": 64,
     "metadata": {},
     "output_type": "execute_result"
    }
   ],
   "source": [
    "model.featureImportances"
   ]
  },
  {
   "cell_type": "markdown",
   "metadata": {
    "id": "Y9TLIjuuUKr3",
    "pycharm": {
     "name": "#%% md\n"
    }
   },
   "source": [
    "##Test the model and make performance evaluation"
   ]
  },
  {
   "cell_type": "code",
   "execution_count": 65,
   "metadata": {
    "id": "i42CsJJEToKP",
    "pycharm": {
     "name": "#%%\n"
    }
   },
   "outputs": [],
   "source": [
    "predictions = model.transform(test)"
   ]
  },
  {
   "cell_type": "code",
   "execution_count": 66,
   "metadata": {
    "colab": {
     "base_uri": "https://localhost:8080/"
    },
    "id": "uUAnqIjxTvgb",
    "outputId": "145d4cac-2324-458c-8376-8b448c60f2df",
    "pycharm": {
     "name": "#%%\n"
    }
   },
   "outputs": [
    {
     "name": "stdout",
     "output_type": "stream",
     "text": [
      "+-----+--------------------+--------------------+--------------------+----------+\n",
      "|Class|            Features|       rawPrediction|         probability|prediction|\n",
      "+-----+--------------------+--------------------+--------------------+----------+\n",
      "|    0|(604,[0,1,2,3,23,...|[12.0829060967107...|[0.48331624386842...|       1.0|\n",
      "|    0|(604,[0,1,2,3,23,...|[10.6943539736292...|[0.42777415894517...|       1.0|\n",
      "|    0|(604,[0,1,2,3,23,...|[10.4865134326867...|[0.41946053730746...|       1.0|\n",
      "|    0|(604,[0,1,2,3,23,...|[10.7516681136152...|[0.43006672454461...|       1.0|\n",
      "|    0|(604,[0,1,2,3,23,...|[10.2914638353625...|[0.41165855341450...|       1.0|\n",
      "|    0|(604,[0,1,2,3,23,...|[11.6193197148371...|[0.46477278859348...|       1.0|\n",
      "|    0|(604,[0,1,2,3,23,...|[11.8357177497441...|[0.47342870998976...|       1.0|\n",
      "|    0|(604,[0,1,2,3,23,...|[11.9105896849016...|[0.47642358739606...|       1.0|\n",
      "|    0|(604,[0,1,2,3,23,...|[11.5495431176131...|[0.46198172470452...|       1.0|\n",
      "|    0|(604,[0,1,2,3,23,...|[10.5887897525975...|[0.42355159010390...|       1.0|\n",
      "|    0|(604,[0,1,2,3,23,...|[12.4731109869546...|[0.49892443947818...|       1.0|\n",
      "|    0|(604,[0,1,2,3,23,...|[12.1672217760176...|[0.48668887104070...|       1.0|\n",
      "|    0|(604,[0,1,2,3,23,...|[10.9782348603651...|[0.43912939441460...|       1.0|\n",
      "|    0|(604,[0,1,2,3,23,...|[10.7573152985483...|[0.43029261194193...|       1.0|\n",
      "|    0|(604,[0,1,2,3,23,...|[10.4027041883573...|[0.41610816753429...|       1.0|\n",
      "|    0|(604,[0,1,2,3,23,...|[10.5180305821124...|[0.42072122328449...|       1.0|\n",
      "|    0|(604,[0,1,2,3,23,...|[12.4211354163890...|[0.49684541665556...|       1.0|\n",
      "|    0|(604,[0,1,2,3,23,...|[12.2384576466709...|[0.48953830586683...|       1.0|\n",
      "|    0|(604,[0,1,2,3,23,...|[12.1981642925446...|[0.48792657170178...|       1.0|\n",
      "|    0|(604,[0,1,2,3,23,...|[10.2010253633637...|[0.40804101453455...|       1.0|\n",
      "+-----+--------------------+--------------------+--------------------+----------+\n",
      "only showing top 20 rows\n",
      "\n"
     ]
    }
   ],
   "source": [
    "predictions.show()"
   ]
  },
  {
   "cell_type": "code",
   "execution_count": 67,
   "metadata": {
    "id": "9ntTjwUgUON3",
    "pycharm": {
     "name": "#%%\n"
    }
   },
   "outputs": [],
   "source": [
    "evaluator = MultiClassEvaluator (predictionCol = 'prediction', labelCol = 'Class', metricName = 'accuracy')"
   ]
  },
  {
   "cell_type": "code",
   "execution_count": 68,
   "metadata": {
    "id": "FgoLlWsRVWFN",
    "pycharm": {
     "name": "#%%\n"
    }
   },
   "outputs": [],
   "source": [
    "accuracyRF = evaluator.evaluate(predictions)"
   ]
  },
  {
   "cell_type": "code",
   "execution_count": 69,
   "metadata": {
    "colab": {
     "base_uri": "https://localhost:8080/"
    },
    "id": "cPOBsG9HVaVM",
    "outputId": "545c9b24-9cb5-441c-ef88-9409c49fd1ae",
    "pycharm": {
     "name": "#%%\n"
    }
   },
   "outputs": [
    {
     "name": "stdout",
     "output_type": "stream",
     "text": [
      "Accuracy Random Forest è pari a 0.6340114501695292\n"
     ]
    }
   ],
   "source": [
    "print(f'Accuracy Random Forest è pari a {accuracyRF}')"
   ]
  },
  {
   "cell_type": "markdown",
   "metadata": {
    "id": "15sdBWKUWhT3",
    "pycharm": {
     "name": "#%% md\n"
    }
   },
   "source": [
    "## Naive Bayes"
   ]
  },
  {
   "cell_type": "code",
   "execution_count": 70,
   "metadata": {
    "id": "JI6Y5DVBhGiV",
    "pycharm": {
     "name": "#%%\n"
    }
   },
   "outputs": [],
   "source": [
    "from pyspark.ml.classification import NaiveBayes"
   ]
  },
  {
   "cell_type": "code",
   "execution_count": 71,
   "metadata": {
    "id": "WhYy6MscgXsG",
    "pycharm": {
     "name": "#%%\n"
    }
   },
   "outputs": [],
   "source": [
    "classifier2 = NaiveBayes(labelCol='Class', featuresCol=\"Features\")\n",
    "model2= classifier.fit(training)"
   ]
  },
  {
   "cell_type": "code",
   "execution_count": 72,
   "metadata": {
    "id": "XsiIL0P1gX3W",
    "pycharm": {
     "name": "#%%\n"
    }
   },
   "outputs": [],
   "source": [
    "predictions_2 = model2.transform(test)"
   ]
  },
  {
   "cell_type": "code",
   "execution_count": 73,
   "metadata": {
    "colab": {
     "base_uri": "https://localhost:8080/"
    },
    "id": "rUsn_Jb3hWcv",
    "outputId": "81eccdfc-a7e6-4fc7-ec69-51658b5615c5",
    "pycharm": {
     "name": "#%%\n"
    }
   },
   "outputs": [
    {
     "name": "stdout",
     "output_type": "stream",
     "text": [
      "+-----+--------------------+--------------------+--------------------+----------+\n",
      "|Class|            Features|       rawPrediction|         probability|prediction|\n",
      "+-----+--------------------+--------------------+--------------------+----------+\n",
      "|    0|(604,[0,1,2,3,23,...|[12.0829060967107...|[0.48331624386842...|       1.0|\n",
      "|    0|(604,[0,1,2,3,23,...|[10.6943539736292...|[0.42777415894517...|       1.0|\n",
      "|    0|(604,[0,1,2,3,23,...|[10.4865134326867...|[0.41946053730746...|       1.0|\n",
      "|    0|(604,[0,1,2,3,23,...|[10.7516681136152...|[0.43006672454461...|       1.0|\n",
      "|    0|(604,[0,1,2,3,23,...|[10.2914638353625...|[0.41165855341450...|       1.0|\n",
      "|    0|(604,[0,1,2,3,23,...|[11.6193197148371...|[0.46477278859348...|       1.0|\n",
      "|    0|(604,[0,1,2,3,23,...|[11.8357177497441...|[0.47342870998976...|       1.0|\n",
      "|    0|(604,[0,1,2,3,23,...|[11.9105896849016...|[0.47642358739606...|       1.0|\n",
      "|    0|(604,[0,1,2,3,23,...|[11.5495431176131...|[0.46198172470452...|       1.0|\n",
      "|    0|(604,[0,1,2,3,23,...|[10.5887897525975...|[0.42355159010390...|       1.0|\n",
      "|    0|(604,[0,1,2,3,23,...|[12.4731109869546...|[0.49892443947818...|       1.0|\n",
      "|    0|(604,[0,1,2,3,23,...|[12.1672217760176...|[0.48668887104070...|       1.0|\n",
      "|    0|(604,[0,1,2,3,23,...|[10.9782348603651...|[0.43912939441460...|       1.0|\n",
      "|    0|(604,[0,1,2,3,23,...|[10.7573152985483...|[0.43029261194193...|       1.0|\n",
      "|    0|(604,[0,1,2,3,23,...|[10.4027041883573...|[0.41610816753429...|       1.0|\n",
      "|    0|(604,[0,1,2,3,23,...|[10.5180305821124...|[0.42072122328449...|       1.0|\n",
      "|    0|(604,[0,1,2,3,23,...|[12.4211354163890...|[0.49684541665556...|       1.0|\n",
      "|    0|(604,[0,1,2,3,23,...|[12.2384576466709...|[0.48953830586683...|       1.0|\n",
      "|    0|(604,[0,1,2,3,23,...|[12.1981642925446...|[0.48792657170178...|       1.0|\n",
      "|    0|(604,[0,1,2,3,23,...|[10.2010253633637...|[0.40804101453455...|       1.0|\n",
      "+-----+--------------------+--------------------+--------------------+----------+\n",
      "only showing top 20 rows\n",
      "\n"
     ]
    }
   ],
   "source": [
    "predictions_2.show()"
   ]
  },
  {
   "cell_type": "code",
   "execution_count": 74,
   "metadata": {
    "id": "t4d1NckYo8q_",
    "pycharm": {
     "name": "#%%\n"
    }
   },
   "outputs": [],
   "source": [
    "tester = BinaryEvaluator(rawPredictionCol='prediction', labelCol='Class')"
   ]
  },
  {
   "cell_type": "code",
   "execution_count": 75,
   "metadata": {
    "id": "YzQ35sngpOwx",
    "pycharm": {
     "name": "#%%\n"
    }
   },
   "outputs": [],
   "source": [
    "accuracyNB = tester.evaluate(predictions_2)"
   ]
  },
  {
   "cell_type": "code",
   "execution_count": 76,
   "metadata": {
    "colab": {
     "base_uri": "https://localhost:8080/"
    },
    "id": "7hgUj05KpiH1",
    "outputId": "b439aa47-1a58-4088-cb78-536a4b321a09",
    "pycharm": {
     "name": "#%%\n"
    }
   },
   "outputs": [
    {
     "name": "stdout",
     "output_type": "stream",
     "text": [
      "Valutazione delle prestazioni:\n",
      "Accuratezza: 0.6015735565174063\n"
     ]
    }
   ],
   "source": [
    "print(\"Valutazione delle prestazioni:\")\n",
    "print(f\"Accuratezza: {accuracyNB:}\")"
   ]
  },
  {
   "cell_type": "markdown",
   "source": [
    "##Logistic"
   ],
   "metadata": {
    "id": "Sla5Ps6OM7pd",
    "pycharm": {
     "name": "#%% md\n"
    }
   }
  },
  {
   "cell_type": "code",
   "source": [
    "from pyspark.ml.classification import LogisticRegression as LogisticRegressor"
   ],
   "metadata": {
    "id": "agscNiWnbIzM",
    "pycharm": {
     "name": "#%%\n"
    }
   },
   "execution_count": 77,
   "outputs": []
  },
  {
   "cell_type": "code",
   "source": [
    "regressor = LogisticRegressor(featuresCol=\"Features\", labelCol='Class')"
   ],
   "metadata": {
    "id": "sOWsSX52bLIL",
    "pycharm": {
     "name": "#%%\n"
    }
   },
   "execution_count": 78,
   "outputs": []
  },
  {
   "cell_type": "code",
   "source": [
    "model = regressor.fit(training)"
   ],
   "metadata": {
    "id": "fEfijdqYbP8M",
    "pycharm": {
     "name": "#%%\n"
    }
   },
   "execution_count": 79,
   "outputs": []
  },
  {
   "cell_type": "code",
   "source": [
    "performance = model.evaluate(test)"
   ],
   "metadata": {
    "id": "YULk5VMEbbQZ",
    "pycharm": {
     "name": "#%%\n"
    }
   },
   "execution_count": 80,
   "outputs": []
  },
  {
   "cell_type": "code",
   "source": [
    "predictions = performance.predictions.select('Class', 'prediction')"
   ],
   "metadata": {
    "id": "9p69LIjsbk-2",
    "pycharm": {
     "name": "#%%\n"
    }
   },
   "execution_count": 81,
   "outputs": []
  },
  {
   "cell_type": "code",
   "source": [
    "predictions.show(20)"
   ],
   "metadata": {
    "colab": {
     "base_uri": "https://localhost:8080/"
    },
    "id": "J9UGVdwbb35t",
    "outputId": "36b2fc09-0975-4120-cace-6e6dbc404c60",
    "pycharm": {
     "name": "#%%\n"
    }
   },
   "execution_count": 82,
   "outputs": [
    {
     "name": "stdout",
     "output_type": "stream",
     "text": [
      "+-----+----------+\n",
      "|Class|prediction|\n",
      "+-----+----------+\n",
      "|    0|       1.0|\n",
      "|    0|       1.0|\n",
      "|    0|       1.0|\n",
      "|    0|       1.0|\n",
      "|    0|       1.0|\n",
      "|    0|       1.0|\n",
      "|    0|       1.0|\n",
      "|    0|       1.0|\n",
      "|    0|       1.0|\n",
      "|    0|       1.0|\n",
      "|    0|       1.0|\n",
      "|    0|       1.0|\n",
      "|    0|       1.0|\n",
      "|    0|       1.0|\n",
      "|    0|       1.0|\n",
      "|    0|       1.0|\n",
      "|    0|       1.0|\n",
      "|    0|       1.0|\n",
      "|    0|       1.0|\n",
      "|    0|       1.0|\n",
      "+-----+----------+\n",
      "only showing top 20 rows\n",
      "\n"
     ]
    }
   ]
  },
  {
   "cell_type": "code",
   "source": [
    "evaluator = BinaryEvaluator(rawPredictionCol='prediction', labelCol='Class')"
   ],
   "metadata": {
    "id": "ddSnQ1dEcEF3",
    "pycharm": {
     "name": "#%%\n"
    }
   },
   "execution_count": 83,
   "outputs": []
  },
  {
   "cell_type": "code",
   "source": [
    "accuracyLOG = evaluator.evaluate(predictions)"
   ],
   "metadata": {
    "id": "kTsTqHiccGNd",
    "pycharm": {
     "name": "#%%\n"
    }
   },
   "execution_count": 84,
   "outputs": []
  },
  {
   "cell_type": "code",
   "source": [
    "print(f\"Accuracy: {accuracyLOG}\")"
   ],
   "metadata": {
    "colab": {
     "base_uri": "https://localhost:8080/"
    },
    "id": "GRq1ir88cJ29",
    "outputId": "fc865da9-43cd-49fc-dd42-9982fc21ba52",
    "pycharm": {
     "name": "#%%\n"
    }
   },
   "execution_count": 85,
   "outputs": [
    {
     "name": "stdout",
     "output_type": "stream",
     "text": [
      "Accuracy: 0.6293179896151048\n"
     ]
    }
   ]
  },
  {
   "cell_type": "markdown",
   "source": [
    "# Comparison of results"
   ],
   "metadata": {
    "id": "V2Ok_oarvYvZ",
    "pycharm": {
     "name": "#%% md\n"
    }
   }
  },
  {
   "cell_type": "code",
   "source": [
    "data_results= [{'Algorithm': 'Naive Bayes', 'Performance(accuracy)': accuracyNB},\n",
    "        {'Algorithm': 'Random Forest', 'Performance(accuracy)': accuracyRF},\n",
    "        {'Algorithm': 'Logistic Regression', 'Performance(accuracy)': accuracyLOG}]\n",
    "  \n",
    "df_results  = spark.createDataFrame(data_results)\n",
    "  \n",
    "df_results.show()"
   ],
   "metadata": {
    "colab": {
     "base_uri": "https://localhost:8080/"
    },
    "id": "0XAsiyxWcdjB",
    "outputId": "df5b0f18-0dae-4d1f-aebb-5f4fc2e05777",
    "pycharm": {
     "name": "#%%\n"
    }
   },
   "execution_count": 86,
   "outputs": [
    {
     "name": "stdout",
     "output_type": "stream",
     "text": [
      "+-------------------+---------------------+\n",
      "|          Algorithm|Performance(accuracy)|\n",
      "+-------------------+---------------------+\n",
      "|        Naive Bayes|   0.6015735565174063|\n",
      "|      Random Forest|   0.6340114501695292|\n",
      "|Logistic Regression|   0.6293179896151048|\n",
      "+-------------------+---------------------+\n",
      "\n"
     ]
    }
   ]
  },
  {
   "cell_type": "markdown",
   "source": [
    "# Close the Spark Session"
   ],
   "metadata": {
    "id": "OAa7s6nN2twp",
    "pycharm": {
     "name": "#%% md\n"
    }
   }
  },
  {
   "cell_type": "code",
   "source": [
    "spark.stop()"
   ],
   "metadata": {
    "id": "vBg4lVsU2wsg",
    "pycharm": {
     "name": "#%%\n"
    }
   },
   "execution_count": 87,
   "outputs": []
  }
 ],
 "metadata": {
  "colab": {
   "provenance": []
  },
  "gpuClass": "standard",
  "kernelspec": {
   "display_name": "Python 3 (ipykernel)",
   "language": "python",
   "name": "python3"
  },
  "language_info": {
   "codemirror_mode": {
    "name": "ipython",
    "version": 3
   },
   "file_extension": ".py",
   "mimetype": "text/x-python",
   "name": "python",
   "nbconvert_exporter": "python",
   "pygments_lexer": "ipython3",
   "version": "3.10.1"
  }
 },
 "nbformat": 4,
 "nbformat_minor": 0
}
